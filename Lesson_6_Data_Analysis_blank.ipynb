{
  "nbformat": 4,
  "nbformat_minor": 0,
  "metadata": {
    "colab": {
      "name": "Lesson_6_Data_Analysis_blank.ipynb",
      "provenance": [],
      "include_colab_link": true
    },
    "kernelspec": {
      "name": "python3",
      "display_name": "Python 3"
    },
    "language_info": {
      "name": "python"
    }
  },
  "cells": [
    {
      "cell_type": "markdown",
      "metadata": {
        "id": "view-in-github",
        "colab_type": "text"
      },
      "source": [
        "<a href=\"https://colab.research.google.com/github/rahim-hashim/Intro-Python-Biology/blob/main/Lesson_6_Data_Analysis_blank.ipynb\" target=\"_parent\"><img src=\"https://colab.research.google.com/assets/colab-badge.svg\" alt=\"Open In Colab\"/></a>"
      ]
    },
    {
      "cell_type": "markdown",
      "metadata": {
        "id": "t8ZjlhQpL5i5"
      },
      "source": [
        "# **Week 6: Data Analysis**\n",
        "\n",
        "**Learning Goals**\n",
        "- Have some fun exploring some small datasets! (30 min)\n",
        "\n",
        "adapted from past [lesson](https://rabernat.github.io/research_computing/pandas.html)"
      ]
    },
    {
      "cell_type": "code",
      "metadata": {
        "id": "dAGl4hsnZAev"
      },
      "source": [
        "#import libraries"
      ],
      "execution_count": null,
      "outputs": []
    },
    {
      "cell_type": "markdown",
      "metadata": {
        "id": "aoFlrHIeYpid"
      },
      "source": [
        "## Stock Market Data\n",
        "> Goal: Plot some stocks!\n",
        "\n",
        "Read in some stock market data from Google finance"
      ]
    },
    {
      "cell_type": "code",
      "metadata": {
        "id": "m47BlZ1JYo3i"
      },
      "source": [
        ""
      ],
      "execution_count": null,
      "outputs": []
    },
    {
      "cell_type": "code",
      "metadata": {
        "id": "IcnLHUxQYiXy"
      },
      "source": [
        ""
      ],
      "execution_count": null,
      "outputs": []
    },
    {
      "cell_type": "code",
      "metadata": {
        "id": "in5G7d6YY4gt"
      },
      "source": [
        ""
      ],
      "execution_count": null,
      "outputs": []
    },
    {
      "cell_type": "code",
      "metadata": {
        "id": "CCnZxRWB42bt"
      },
      "source": [
        ""
      ],
      "execution_count": null,
      "outputs": []
    },
    {
      "cell_type": "markdown",
      "metadata": {
        "id": "ubzA5_005Ihi"
      },
      "source": [
        "> Let's get rid of that pesky index"
      ]
    },
    {
      "cell_type": "code",
      "metadata": {
        "id": "UHcWU25l5GRD"
      },
      "source": [
        ""
      ],
      "execution_count": null,
      "outputs": []
    },
    {
      "cell_type": "code",
      "metadata": {
        "id": "8strmb0D5kAW"
      },
      "source": [
        "#get info on the dataframe\n"
      ],
      "execution_count": null,
      "outputs": []
    },
    {
      "cell_type": "code",
      "metadata": {
        "id": "6--a07-K5j7Q"
      },
      "source": [
        ""
      ],
      "execution_count": null,
      "outputs": []
    },
    {
      "cell_type": "code",
      "metadata": {
        "id": "y1IP14x35j2_"
      },
      "source": [
        "#load in apple stock\n"
      ],
      "execution_count": null,
      "outputs": []
    },
    {
      "cell_type": "code",
      "metadata": {
        "id": "htnqeADy5jzt"
      },
      "source": [
        "#create new df of closing stock prices\n"
      ],
      "execution_count": null,
      "outputs": []
    },
    {
      "cell_type": "code",
      "metadata": {
        "id": "CQt8uKNC5jvm"
      },
      "source": [
        ""
      ],
      "execution_count": null,
      "outputs": []
    },
    {
      "cell_type": "markdown",
      "metadata": {
        "id": "P4N0TT7F6Yrv"
      },
      "source": [
        "> Pandas knows how to take correlations. And tons of [other computations](https://pandas.pydata.org/pandas-docs/stable/user_guide/computation.html)."
      ]
    },
    {
      "cell_type": "code",
      "metadata": {
        "id": "RtUsC0Lv5jrT"
      },
      "source": [
        ""
      ],
      "execution_count": null,
      "outputs": []
    },
    {
      "cell_type": "markdown",
      "metadata": {
        "id": "mw6oI1a76kGV"
      },
      "source": [
        "> Because it understands times, it can do really cool stuff like resampling (i.e. frequency conversions)."
      ]
    },
    {
      "cell_type": "code",
      "metadata": {
        "id": "BH-B2cDA5jij"
      },
      "source": [
        "# resample by taking the mean over each month\n",
        "\n",
        "\n",
        "# and each year\n"
      ],
      "execution_count": null,
      "outputs": []
    },
    {
      "cell_type": "markdown",
      "metadata": {
        "id": "mHmB8m6761AC"
      },
      "source": [
        "The string `QS` means \"month start\". The string `AS` mean \"year start\". There is a long list of possible frequency aliases.\n",
        "\n",
        "We can also apply other reduction operations with resample. These are described in the [resample docs](https://pandas.pydata.org/pandas-docs/stable/user_guide/timeseries.html)."
      ]
    },
    {
      "cell_type": "code",
      "metadata": {
        "id": "IwONsXg85jZt"
      },
      "source": [
        "# get resample object\n",
        "\n",
        "# standard deviation of each month\n"
      ],
      "execution_count": null,
      "outputs": []
    },
    {
      "cell_type": "markdown",
      "metadata": {
        "id": "rHe7bdkPaKET"
      },
      "source": [
        "## Temperature Data\n",
        "> Goal: Plot anomalous temperature and find the hottest years in the dataset\n",
        "\n",
        "We download some timeseries data from the [Berkeley Earth(http://berkeleyearth.org/) surface temperature dataset. This is timeseries data from various locations around earth. Let's get our local temperatures.\n",
        "\n"
      ]
    },
    {
      "cell_type": "code",
      "metadata": {
        "id": "wqy0tt9zY-OQ"
      },
      "source": [
        ""
      ],
      "execution_count": null,
      "outputs": []
    },
    {
      "cell_type": "markdown",
      "metadata": {
        "id": "y3ge1kpadSig"
      },
      "source": [
        "> If we examine this data, we see it is NOT a well formated CSV file. Loading it will be a bit painful, but Pandas makes the job retatively easy."
      ]
    },
    {
      "cell_type": "code",
      "metadata": {
        "id": "a4NiK80Eaf_t"
      },
      "source": [
        ""
      ],
      "execution_count": null,
      "outputs": []
    },
    {
      "cell_type": "code",
      "metadata": {
        "id": "6_3ipHNaaMXT"
      },
      "source": [
        ""
      ],
      "execution_count": null,
      "outputs": []
    },
    {
      "cell_type": "code",
      "metadata": {
        "id": "5m7zm7_paROc"
      },
      "source": [
        "##### http://berkeleyearth.lbl.gov/locations/40.99N-74.56W\n",
        "# http://berkeleyearth.lbl.gov/auto/Local/TAVG/Text/40.99N-74.56W-TAVG-Trend.txt\n",
        "\n",
        "\n",
        "#temp = pd.read_csv('nyc_temp.txt')\n"
      ],
      "execution_count": null,
      "outputs": []
    },
    {
      "cell_type": "code",
      "metadata": {
        "id": "CGQdne92bMpb"
      },
      "source": [
        ""
      ],
      "execution_count": null,
      "outputs": []
    },
    {
      "cell_type": "markdown",
      "metadata": {
        "id": "2aPWKcmjcd95"
      },
      "source": [
        "> We have year and month, we need a day"
      ]
    },
    {
      "cell_type": "code",
      "metadata": {
        "id": "g2BRE4Jwbjl7"
      },
      "source": [
        "#first let's drop monthly_anom column\n"
      ],
      "execution_count": null,
      "outputs": []
    },
    {
      "cell_type": "code",
      "metadata": {
        "id": "xrk374iobvu6"
      },
      "source": [
        "#now create a datetime index to be our new index\n"
      ],
      "execution_count": null,
      "outputs": []
    },
    {
      "cell_type": "code",
      "metadata": {
        "id": "8L1jOpGAcA8M"
      },
      "source": [
        ""
      ],
      "execution_count": null,
      "outputs": []
    },
    {
      "cell_type": "code",
      "metadata": {
        "id": "IfD6IaVScKVl"
      },
      "source": [
        "#now set the new index to be our date_index that we just created\n"
      ],
      "execution_count": null,
      "outputs": []
    },
    {
      "cell_type": "code",
      "metadata": {
        "id": "5B5En4XbbU4b"
      },
      "source": [
        ""
      ],
      "execution_count": null,
      "outputs": []
    },
    {
      "cell_type": "markdown",
      "metadata": {
        "id": "nATROpoydfix"
      },
      "source": [
        "> Pandas can do both time-based resampling and operation over fixed-length rolling windows. These are very similar but distinct; see discussion in [Pandas docs](https://pandas.pydata.org/pandas-docs/stable/user_guide/computation.html#windowing-functions)."
      ]
    },
    {
      "cell_type": "code",
      "metadata": {
        "id": "YJ8TscL7dY_t"
      },
      "source": [
        ""
      ],
      "execution_count": null,
      "outputs": []
    },
    {
      "cell_type": "markdown",
      "metadata": {
        "id": "Fti5SE7feVTH"
      },
      "source": [
        "> `resampling` aliases [link here](https://pandas.pydata.org/pandas-docs/stable/user_guide/timeseries.html#offset-aliases).\n",
        "Resampling basically is like groupby where you group your items in a specified window size, then you tell python what operation you want done on your groups. Resampling is usually used for datetimeindex objects instead of `groupby`.\n",
        "\n",
        "> The concept of rolling window calculation is most primarily used in signal processing and time series data. In very simple words we take a window size of our choosing, say 5 days at a time and perform some desired mathematical operation on it."
      ]
    },
    {
      "cell_type": "code",
      "metadata": {
        "id": "0gROt2lFeAf-"
      },
      "source": [
        "# more advanced operation on rolling windows\n"
      ],
      "execution_count": null,
      "outputs": []
    },
    {
      "cell_type": "markdown",
      "metadata": {
        "id": "TvrXsAZ0i8WL"
      },
      "source": [
        "To create a \"climatology\" (i.e. the average of all same months), we can use Pandas' [`groupby`](https://pandas.pydata.org/pandas-docs/stable/user_guide/groupby.html) functionality."
      ]
    },
    {
      "cell_type": "code",
      "metadata": {
        "id": "Mxul3tdBhvn3"
      },
      "source": [
        "# diurnal cycle has been removed!\n"
      ],
      "execution_count": null,
      "outputs": []
    },
    {
      "cell_type": "markdown",
      "metadata": {
        "id": "qiygbF0pjvhb"
      },
      "source": [
        "> Let's find the hottest years\n"
      ]
    },
    {
      "cell_type": "code",
      "metadata": {
        "id": "51G-lLAHjQ4y"
      },
      "source": [
        ""
      ],
      "execution_count": null,
      "outputs": []
    },
    {
      "cell_type": "markdown",
      "metadata": {
        "id": "JW_v4k6PkD7U"
      },
      "source": [
        "## Rats!\n",
        "> Goal: Become experts in using `groupby`\n",
        "\n",
        "\n",
        "Now we will explore groupby's capabilities more in a public dataset from the City of New York: the [Rat Information Portal](https://data.cityofnewyork.us/Health/Rodent-Inspection/p937-wjvj)!"
      ]
    },
    {
      "cell_type": "code",
      "metadata": {
        "id": "cYxDfXVklJMm"
      },
      "source": [
        ""
      ],
      "execution_count": null,
      "outputs": []
    },
    {
      "cell_type": "code",
      "metadata": {
        "id": "p7oBnxwJlJ16"
      },
      "source": [
        ""
      ],
      "execution_count": null,
      "outputs": []
    },
    {
      "cell_type": "markdown",
      "metadata": {
        "id": "xb6PFEkMtwAO"
      },
      "source": [
        "> Let's do some grouping to explore the data."
      ]
    },
    {
      "cell_type": "code",
      "metadata": {
        "id": "8UBpBjs_p6qW"
      },
      "source": [
        ""
      ],
      "execution_count": null,
      "outputs": []
    },
    {
      "cell_type": "code",
      "metadata": {
        "id": "TaL9T9ebt028"
      },
      "source": [
        ""
      ],
      "execution_count": null,
      "outputs": []
    },
    {
      "cell_type": "code",
      "metadata": {
        "id": "cCgcMRVxt8ee"
      },
      "source": [
        ""
      ],
      "execution_count": null,
      "outputs": []
    },
    {
      "cell_type": "code",
      "metadata": {
        "id": "ThQ_M1DOubKa"
      },
      "source": [
        "# clean up street name\n",
        " #gets rid of any whitespaces\n",
        "#street_names_cleaned.groupby(street_names_cleaned).count().head(20)\n"
      ],
      "execution_count": null,
      "outputs": []
    },
    {
      "cell_type": "markdown",
      "metadata": {
        "id": "70EwbF_1vaSt"
      },
      "source": [
        "> To get a better idea of the geography, let's plot the locations of the inspections. But first let's look at the statistics."
      ]
    },
    {
      "cell_type": "code",
      "metadata": {
        "id": "5SS0_3BwvGdE"
      },
      "source": [
        ""
      ],
      "execution_count": null,
      "outputs": []
    },
    {
      "cell_type": "markdown",
      "metadata": {
        "id": "kqBD5U6kvmap"
      },
      "source": [
        "> There are clearly some weird outliers in the location data. We need to strip these out before plotting."
      ]
    },
    {
      "cell_type": "code",
      "metadata": {
        "id": "xxmjJZ9YvfOQ"
      },
      "source": [
        ""
      ],
      "execution_count": null,
      "outputs": []
    },
    {
      "cell_type": "code",
      "metadata": {
        "id": "PubBjnDCwE5O"
      },
      "source": [
        "# https://github.com/pandas-dev/pandas/issues/10678\n",
        "#color shows the count concentration\n"
      ],
      "execution_count": null,
      "outputs": []
    },
    {
      "cell_type": "code",
      "metadata": {
        "id": "e1I9D3gyw9Y6"
      },
      "source": [
        "#plot in logscale to see the range of values\n"
      ],
      "execution_count": null,
      "outputs": []
    },
    {
      "cell_type": "code",
      "metadata": {
        "id": "VCeK0xcKyIhf"
      },
      "source": [
        ""
      ],
      "execution_count": null,
      "outputs": []
    },
    {
      "cell_type": "code",
      "metadata": {
        "id": "N7-BuhLAxqsM"
      },
      "source": [
        ""
      ],
      "execution_count": null,
      "outputs": []
    },
    {
      "cell_type": "markdown",
      "metadata": {
        "id": "vCQa49ALzJF7"
      },
      "source": [
        "> When do inspections happen during the week?"
      ]
    },
    {
      "cell_type": "code",
      "metadata": {
        "id": "sxD503_EybVC"
      },
      "source": [
        ""
      ],
      "execution_count": null,
      "outputs": []
    },
    {
      "cell_type": "markdown",
      "metadata": {
        "id": "e87Ku5A-zPo-"
      },
      "source": [
        "> When do inspections happen during the day?"
      ]
    },
    {
      "cell_type": "code",
      "metadata": {
        "id": "MWTUkEthylWc"
      },
      "source": [
        ""
      ],
      "execution_count": null,
      "outputs": []
    },
    {
      "cell_type": "markdown",
      "metadata": {
        "id": "9NrQoF9GzdXV"
      },
      "source": [
        "> When do inspections happen during the month?"
      ]
    },
    {
      "cell_type": "code",
      "metadata": {
        "id": "UALTi4h1yyli"
      },
      "source": [
        ""
      ],
      "execution_count": null,
      "outputs": []
    },
    {
      "cell_type": "code",
      "metadata": {
        "id": "k0Qgyhg-zbe2"
      },
      "source": [
        ""
      ],
      "execution_count": null,
      "outputs": []
    }
  ]
}