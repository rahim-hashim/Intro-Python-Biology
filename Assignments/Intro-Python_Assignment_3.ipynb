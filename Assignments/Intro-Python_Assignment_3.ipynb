{
  "nbformat": 4,
  "nbformat_minor": 0,
  "metadata": {
    "colab": {
      "name": "Intro-Python_Assignment-3.ipynb",
      "provenance": []
    },
    "kernelspec": {
      "name": "python3",
      "display_name": "Python 3"
    },
    "language_info": {
      "name": "python"
    }
  },
  "cells": [
    {
      "cell_type": "markdown",
      "metadata": {
        "id": "VDKj1H_kyTfY"
      },
      "source": [
        "# Assignment 3: Data Visualization\n",
        "\n",
        "To prepare, you'll need to download [the IMDb data set from Kaggle](https://www.kaggle.com/stefanoleone992/imdb-extensive-dataset?select=IMDb+movies.csv), upload it to your Colab notebook, and unzip it. That should give you four CSV files. \n",
        "\n",
        "## 1. Make a line chart, with Pandas `.plot()`, showing average movie ratings (`avg_vote`) according to year (`year`). (You may need to clean the `year` column for this to work.)\n"
      ]
    },
    {
      "cell_type": "code",
      "metadata": {
        "id": "xv7pRNFn2myy"
      },
      "source": [
        "# Enter code here"
      ],
      "execution_count": null,
      "outputs": []
    },
    {
      "cell_type": "markdown",
      "metadata": {
        "id": "fABivK_nyJsd"
      },
      "source": [
        "## 2. Make a bar chart, using Altair, showing (a) ratings among ~18-year-old users, and (b) ratings among ~45-year-old users, for several films with a high discrepancy between these two values.  "
      ]
    },
    {
      "cell_type": "code",
      "metadata": {
        "id": "HrBWTV_72oyg"
      },
      "source": [
        "# Enter code here"
      ],
      "execution_count": null,
      "outputs": []
    },
    {
      "cell_type": "markdown",
      "metadata": {
        "id": "AHFgQ93XyKM5"
      },
      "source": [
        "\n",
        "## 3. Make an interactive scatter plot, using Altair, showing the correlation between a movie's budget, on one axis, and its worldwide gross income on another. What movies have very low budgets and very high income? (You may want to annotate points with movie titles, or add movie titles to the hover text of points.) "
      ]
    },
    {
      "cell_type": "code",
      "metadata": {
        "id": "r3dJtTo92qNi"
      },
      "source": [
        "# Enter code here"
      ],
      "execution_count": null,
      "outputs": []
    }
  ]
}