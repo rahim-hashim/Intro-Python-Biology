{
  "nbformat": 4,
  "nbformat_minor": 0,
  "metadata": {
    "colab": {
      "name": "Intro-Python_Lesson-3.ipynb",
      "provenance": [],
      "collapsed_sections": []
    },
    "kernelspec": {
      "name": "python3",
      "display_name": "Python 3"
    },
    "language_info": {
      "name": "python"
    }
  },
  "cells": [
    {
      "cell_type": "markdown",
      "metadata": {
        "id": "I31xRxmqy99o"
      },
      "source": [
        "# Data Visualization\n",
        "\n",
        "This notebook demonstrates some data visualization methods, using the Pandas data science library for Python, its built-in instance of Matplotlib, a data visualization library, and Altair, a declarative data science library. \n",
        "\n",
        "To prepare, we've downloaded the IMDB data set [here from Kaggle](https://www.kaggle.com/stefanoleone992/imdb-extensive-dataset?select=IMDb+movies.csv), and by clicking \"download.\" What we download to our computer is `archive.zip`. \n",
        "\n",
        "We then upload that file to our Colab notebook in the files explorer (the tab on the left), using the upload button.\n",
        "\n",
        "Now, let's import Pandas and Altair: "
      ]
    },
    {
      "cell_type": "code",
      "metadata": {
        "id": "C5mD4ZYE0jIW"
      },
      "source": [
        "import pandas as pd\n",
        "import altair as alt"
      ],
      "execution_count": 74,
      "outputs": []
    },
    {
      "cell_type": "markdown",
      "metadata": {
        "id": "pY5ie-H2pP_b"
      },
      "source": [
        "You can run shell commands (Ubuntu Linux programs) in your Google-provided virtual machine by prefixing the command with `!`. So to run the command `echo` and give it the input \"Hello world!,\" run this: "
      ]
    },
    {
      "cell_type": "code",
      "metadata": {
        "colab": {
          "base_uri": "https://localhost:8080/"
        },
        "id": "byJK_T2X0JzF",
        "outputId": "478e6a16-4ee2-4581-8cc4-c193564decef"
      },
      "source": [
        "!echo \"Hello world!\""
      ],
      "execution_count": null,
      "outputs": [
        {
          "output_type": "stream",
          "text": [
            "Hello world!\n"
          ],
          "name": "stdout"
        }
      ]
    },
    {
      "cell_type": "markdown",
      "metadata": {
        "id": "tIdFnXbLpf-P"
      },
      "source": [
        "We'll use the `unzip` command to unzip our archive:"
      ]
    },
    {
      "cell_type": "code",
      "metadata": {
        "colab": {
          "base_uri": "https://localhost:8080/"
        },
        "id": "vj2_TOgzvTgL",
        "outputId": "0814205b-14af-4695-ebcc-4ba782889be6"
      },
      "source": [
        "!unzip archive.zip "
      ],
      "execution_count": null,
      "outputs": [
        {
          "output_type": "stream",
          "text": [
            "Archive:  archive.zip\n",
            "  inflating: IMDb movies.csv         \n",
            "  inflating: IMDb names.csv          \n",
            "  inflating: IMDb ratings.csv        \n",
            "  inflating: IMDb title_principals.csv  \n"
          ],
          "name": "stdout"
        }
      ]
    },
    {
      "cell_type": "markdown",
      "metadata": {
        "id": "hW3UiS8tppNA"
      },
      "source": [
        "That expands several CSV files, which we'll load in one by one. "
      ]
    },
    {
      "cell_type": "code",
      "metadata": {
        "colab": {
          "base_uri": "https://localhost:8080/"
        },
        "id": "hyJy0-Ok0QqC",
        "outputId": "9310a212-ac14-426c-8171-edeeb6556a3e"
      },
      "source": [
        "movies = pd.read_csv('IMDb movies.csv')"
      ],
      "execution_count": null,
      "outputs": [
        {
          "output_type": "stream",
          "text": [
            "/usr/local/lib/python3.7/dist-packages/IPython/core/interactiveshell.py:2718: DtypeWarning: Columns (3) have mixed types.Specify dtype option on import or set low_memory=False.\n",
            "  interactivity=interactivity, compiler=compiler, result=result)\n"
          ],
          "name": "stderr"
        }
      ]
    },
    {
      "cell_type": "code",
      "metadata": {
        "id": "svTYuR_-0mBl"
      },
      "source": [
        "movies"
      ],
      "execution_count": null,
      "outputs": []
    },
    {
      "cell_type": "code",
      "metadata": {
        "id": "lWCcNUzb0pOe"
      },
      "source": [
        "ratings = pd.read_csv('IMDb ratings.csv')"
      ],
      "execution_count": null,
      "outputs": []
    },
    {
      "cell_type": "markdown",
      "metadata": {
        "id": "aCzd63Otpsu2"
      },
      "source": [
        "A CSV is just a comma-separated-values text file. "
      ]
    },
    {
      "cell_type": "code",
      "metadata": {
        "id": "1O3xJ3qV02BA"
      },
      "source": [
        "rawCSV = \"\"\"\n",
        "movie,rating,budget\n",
        "Star Wars,10,100000000\n",
        "Star Wars II,2,5\n",
        "\"\"\""
      ],
      "execution_count": null,
      "outputs": []
    },
    {
      "cell_type": "markdown",
      "metadata": {
        "id": "sg7RxNXPpyOj"
      },
      "source": [
        "Let's merge these two CSV files together, and assign them to the variable `df`. "
      ]
    },
    {
      "cell_type": "code",
      "metadata": {
        "id": "6bG9YLFi1FBj"
      },
      "source": [
        "df = pd.merge(movies, ratings)"
      ],
      "execution_count": 24,
      "outputs": []
    },
    {
      "cell_type": "code",
      "metadata": {
        "id": "K7-3iCXz1HTo"
      },
      "source": [
        "df"
      ],
      "execution_count": null,
      "outputs": []
    },
    {
      "cell_type": "markdown",
      "metadata": {
        "id": "zMCmo5Yu2UU9"
      },
      "source": [
        "## On Data Visualization Libraries\n",
        "\n",
        "- Matplotlib: the oldest, (clunkiest?), imperative library, built into Pandas\n",
        "- Altair: newer, uses Vega, declarative, works well with data frames \n",
        "- Plotly: newer, interactive, declarative, works well with data frames"
      ]
    },
    {
      "cell_type": "markdown",
      "metadata": {
        "id": "lMKk1-SCqpyv"
      },
      "source": [
        "## Matplotlib and built-in Pandas visualizations"
      ]
    },
    {
      "cell_type": "code",
      "metadata": {
        "colab": {
          "base_uri": "https://localhost:8080/"
        },
        "id": "44yanQcv4wZ0",
        "outputId": "4c0d7b27-8322-4e0d-ef86-c0dfd6f368ae"
      },
      "source": [
        "df.columns"
      ],
      "execution_count": 28,
      "outputs": [
        {
          "output_type": "execute_result",
          "data": {
            "text/plain": [
              "Index(['imdb_title_id', 'title', 'original_title', 'year', 'date_published',\n",
              "       'genre', 'duration', 'country', 'language', 'director', 'writer',\n",
              "       'production_company', 'actors', 'description', 'avg_vote', 'votes',\n",
              "       'budget', 'usa_gross_income', 'worlwide_gross_income', 'metascore',\n",
              "       'reviews_from_users', 'reviews_from_critics', 'weighted_average_vote',\n",
              "       'total_votes', 'mean_vote', 'median_vote', 'votes_10', 'votes_9',\n",
              "       'votes_8', 'votes_7', 'votes_6', 'votes_5', 'votes_4', 'votes_3',\n",
              "       'votes_2', 'votes_1', 'allgenders_0age_avg_vote',\n",
              "       'allgenders_0age_votes', 'allgenders_18age_avg_vote',\n",
              "       'allgenders_18age_votes', 'allgenders_30age_avg_vote',\n",
              "       'allgenders_30age_votes', 'allgenders_45age_avg_vote',\n",
              "       'allgenders_45age_votes', 'males_allages_avg_vote',\n",
              "       'males_allages_votes', 'males_0age_avg_vote', 'males_0age_votes',\n",
              "       'males_18age_avg_vote', 'males_18age_votes', 'males_30age_avg_vote',\n",
              "       'males_30age_votes', 'males_45age_avg_vote', 'males_45age_votes',\n",
              "       'females_allages_avg_vote', 'females_allages_votes',\n",
              "       'females_0age_avg_vote', 'females_0age_votes', 'females_18age_avg_vote',\n",
              "       'females_18age_votes', 'females_30age_avg_vote', 'females_30age_votes',\n",
              "       'females_45age_avg_vote', 'females_45age_votes',\n",
              "       'top1000_voters_rating', 'top1000_voters_votes', 'us_voters_rating',\n",
              "       'us_voters_votes', 'non_us_voters_rating', 'non_us_voters_votes'],\n",
              "      dtype='object')"
            ]
          },
          "metadata": {
            "tags": []
          },
          "execution_count": 28
        }
      ]
    },
    {
      "cell_type": "code",
      "metadata": {
        "id": "kbUZDhbo46pt"
      },
      "source": [
        "df['avg_vote'].plot(kind='bar')"
      ],
      "execution_count": null,
      "outputs": []
    },
    {
      "cell_type": "code",
      "metadata": {
        "colab": {
          "base_uri": "https://localhost:8080/",
          "height": 319
        },
        "id": "Tylqu_RE5Glu",
        "outputId": "45b417b2-cb19-46ae-90ad-df66a6e63a1e"
      },
      "source": [
        "df['year'].apply(int)\n"
      ],
      "execution_count": 37,
      "outputs": [
        {
          "output_type": "error",
          "ename": "ValueError",
          "evalue": "ignored",
          "traceback": [
            "\u001b[0;31m---------------------------------------------------------------------------\u001b[0m",
            "\u001b[0;31mValueError\u001b[0m                                Traceback (most recent call last)",
            "\u001b[0;32m<ipython-input-37-471244721d7b>\u001b[0m in \u001b[0;36m<module>\u001b[0;34m()\u001b[0m\n\u001b[0;32m----> 1\u001b[0;31m \u001b[0mdf\u001b[0m\u001b[0;34m[\u001b[0m\u001b[0;34m'year'\u001b[0m\u001b[0;34m]\u001b[0m\u001b[0;34m.\u001b[0m\u001b[0mapply\u001b[0m\u001b[0;34m(\u001b[0m\u001b[0mint\u001b[0m\u001b[0;34m)\u001b[0m\u001b[0;34m\u001b[0m\u001b[0;34m\u001b[0m\u001b[0m\n\u001b[0m",
            "\u001b[0;32m/usr/local/lib/python3.7/dist-packages/pandas/core/series.py\u001b[0m in \u001b[0;36mapply\u001b[0;34m(self, func, convert_dtype, args, **kwds)\u001b[0m\n\u001b[1;32m   4211\u001b[0m             \u001b[0;32melse\u001b[0m\u001b[0;34m:\u001b[0m\u001b[0;34m\u001b[0m\u001b[0;34m\u001b[0m\u001b[0m\n\u001b[1;32m   4212\u001b[0m                 \u001b[0mvalues\u001b[0m \u001b[0;34m=\u001b[0m \u001b[0mself\u001b[0m\u001b[0;34m.\u001b[0m\u001b[0mastype\u001b[0m\u001b[0;34m(\u001b[0m\u001b[0mobject\u001b[0m\u001b[0;34m)\u001b[0m\u001b[0;34m.\u001b[0m\u001b[0m_values\u001b[0m\u001b[0;34m\u001b[0m\u001b[0;34m\u001b[0m\u001b[0m\n\u001b[0;32m-> 4213\u001b[0;31m                 \u001b[0mmapped\u001b[0m \u001b[0;34m=\u001b[0m \u001b[0mlib\u001b[0m\u001b[0;34m.\u001b[0m\u001b[0mmap_infer\u001b[0m\u001b[0;34m(\u001b[0m\u001b[0mvalues\u001b[0m\u001b[0;34m,\u001b[0m \u001b[0mf\u001b[0m\u001b[0;34m,\u001b[0m \u001b[0mconvert\u001b[0m\u001b[0;34m=\u001b[0m\u001b[0mconvert_dtype\u001b[0m\u001b[0;34m)\u001b[0m\u001b[0;34m\u001b[0m\u001b[0;34m\u001b[0m\u001b[0m\n\u001b[0m\u001b[1;32m   4214\u001b[0m \u001b[0;34m\u001b[0m\u001b[0m\n\u001b[1;32m   4215\u001b[0m         \u001b[0;32mif\u001b[0m \u001b[0mlen\u001b[0m\u001b[0;34m(\u001b[0m\u001b[0mmapped\u001b[0m\u001b[0;34m)\u001b[0m \u001b[0;32mand\u001b[0m \u001b[0misinstance\u001b[0m\u001b[0;34m(\u001b[0m\u001b[0mmapped\u001b[0m\u001b[0;34m[\u001b[0m\u001b[0;36m0\u001b[0m\u001b[0;34m]\u001b[0m\u001b[0;34m,\u001b[0m \u001b[0mSeries\u001b[0m\u001b[0;34m)\u001b[0m\u001b[0;34m:\u001b[0m\u001b[0;34m\u001b[0m\u001b[0;34m\u001b[0m\u001b[0m\n",
            "\u001b[0;32mpandas/_libs/lib.pyx\u001b[0m in \u001b[0;36mpandas._libs.lib.map_infer\u001b[0;34m()\u001b[0m\n",
            "\u001b[0;31mValueError\u001b[0m: invalid literal for int() with base 10: 'TV Movie 2019'"
          ]
        }
      ]
    },
    {
      "cell_type": "markdown",
      "metadata": {
        "id": "qjY9j0iWqu7K"
      },
      "source": [
        "That doesn't work, so we have to clean `year` so that it's all `int`s. "
      ]
    },
    {
      "cell_type": "code",
      "metadata": {
        "id": "A7Xog7OG5oIu"
      },
      "source": [
        "def strToIntAwesome(year):\n",
        "    if type(year) == str and year.startswith('TV Movie'): \n",
        "        year = year[-4:]\n",
        "    return int(year)"
      ],
      "execution_count": 38,
      "outputs": []
    },
    {
      "cell_type": "markdown",
      "metadata": {
        "id": "zPdgfQbHqzwj"
      },
      "source": [
        "Testing with lots of different years: "
      ]
    },
    {
      "cell_type": "code",
      "metadata": {
        "colab": {
          "base_uri": "https://localhost:8080/"
        },
        "id": "XIsyDjkQ5xuP",
        "outputId": "5b1a23df-b806-4b6e-df7c-3560a84ea3f2"
      },
      "source": [
        "testStrings = [\"2021\", \"2\", \"45\", \"1911\", \"1900\", \"TV Movie 2019\"]\n",
        "for year in testStrings:\n",
        "    print(strToIntAwesome(year))"
      ],
      "execution_count": 43,
      "outputs": [
        {
          "output_type": "stream",
          "text": [
            "2021\n",
            "2\n",
            "45\n",
            "1911\n",
            "1900\n",
            "2019\n"
          ],
          "name": "stdout"
        }
      ]
    },
    {
      "cell_type": "markdown",
      "metadata": {
        "id": "gafjKnTjq2ZV"
      },
      "source": [
        "Now we can apply the function to `year` to get `cleanYear`. "
      ]
    },
    {
      "cell_type": "code",
      "metadata": {
        "id": "rJvx3pla6uIc"
      },
      "source": [
        "df['cleanYear'] = df['year'].apply(strToIntAwesome)"
      ],
      "execution_count": 48,
      "outputs": []
    },
    {
      "cell_type": "code",
      "metadata": {
        "colab": {
          "base_uri": "https://localhost:8080/"
        },
        "id": "MKd2dDJz7I8m",
        "outputId": "d52ab2f5-08a2-4859-be0b-6aeef03bc8ea"
      },
      "source": [
        "df['cleanYear']"
      ],
      "execution_count": 60,
      "outputs": [
        {
          "output_type": "execute_result",
          "data": {
            "text/plain": [
              "0        1894\n",
              "1        1906\n",
              "2        1911\n",
              "3        1912\n",
              "4        1911\n",
              "         ... \n",
              "85850    2020\n",
              "85851    2020\n",
              "85852    2019\n",
              "85853    2019\n",
              "85854    2019\n",
              "Name: cleanYear, Length: 85855, dtype: int64"
            ]
          },
          "metadata": {
            "tags": []
          },
          "execution_count": 60
        }
      ]
    },
    {
      "cell_type": "markdown",
      "metadata": {
        "id": "nmpTikkMq9R7"
      },
      "source": [
        "That allows us to get the mean vote (rating) by year: "
      ]
    },
    {
      "cell_type": "code",
      "metadata": {
        "colab": {
          "base_uri": "https://localhost:8080/",
          "height": 296
        },
        "id": "7g-9I4R78pu0",
        "outputId": "37c38c24-ba7d-4f09-8653-254122514603"
      },
      "source": [
        "df.groupby('cleanYear')['mean_vote'].mean().plot()"
      ],
      "execution_count": 71,
      "outputs": [
        {
          "output_type": "execute_result",
          "data": {
            "text/plain": [
              "<matplotlib.axes._subplots.AxesSubplot at 0x7f9b465e5750>"
            ]
          },
          "metadata": {
            "tags": []
          },
          "execution_count": 71
        },
        {
          "output_type": "display_data",
          "data": {
            "image/png": "[encoded data removed]",
            "text/plain": [
              "<Figure size 432x288 with 1 Axes>"
            ]
          },
          "metadata": {
            "tags": [],
            "needs_background": "light"
          }
        }
      ]
    },
    {
      "cell_type": "markdown",
      "metadata": {
        "id": "fHkkMzTCrBqU"
      },
      "source": [
        "Here's how we would bin this into decades, if we wanted: "
      ]
    },
    {
      "cell_type": "code",
      "metadata": {
        "id": "kdAbawpE_mFK"
      },
      "source": [
        "def yearToDecade(year): \n",
        "    return year - year % 10"
      ],
      "execution_count": 100,
      "outputs": []
    },
    {
      "cell_type": "markdown",
      "metadata": {
        "id": "dS_tDPjZrHQi"
      },
      "source": [
        "Testing: "
      ]
    },
    {
      "cell_type": "code",
      "metadata": {
        "colab": {
          "base_uri": "https://localhost:8080/"
        },
        "id": "f8SRYgf5A7qs",
        "outputId": "1ab95467-7629-447c-f127-8a76605dd96d"
      },
      "source": [
        "for year in [1910, 1900, 2, 8546]:\n",
        "    print(yearToDecade(year))"
      ],
      "execution_count": 102,
      "outputs": [
        {
          "output_type": "stream",
          "text": [
            "1910\n",
            "1900\n",
            "0\n",
            "8540\n"
          ],
          "name": "stdout"
        }
      ]
    },
    {
      "cell_type": "markdown",
      "metadata": {
        "id": "cKwJkzydrOUl"
      },
      "source": [
        "Now we apply our decading function to `cleanYear`:"
      ]
    },
    {
      "cell_type": "code",
      "metadata": {
        "id": "fWWU48wTBPJR"
      },
      "source": [
        "df['decade'] = df['cleanYear'].apply(yearToDecade)"
      ],
      "execution_count": 104,
      "outputs": []
    },
    {
      "cell_type": "markdown",
      "metadata": {
        "id": "kB4otgs0rQDc"
      },
      "source": [
        "Now before we get to decades, let's group by our years. First, tidy the data: "
      ]
    },
    {
      "cell_type": "code",
      "metadata": {
        "id": "uLLqFMZH-c_B"
      },
      "source": [
        "yearVRating = df.groupby('cleanYear')['mean_vote'].mean()"
      ],
      "execution_count": 76,
      "outputs": []
    },
    {
      "cell_type": "code",
      "metadata": {
        "id": "ltSxLsLV-zlj"
      },
      "source": [
        "yearVRatingClean = yearVRating.to_frame()"
      ],
      "execution_count": 86,
      "outputs": []
    },
    {
      "cell_type": "code",
      "metadata": {
        "id": "b-3_CVE8_OxJ"
      },
      "source": [
        "yearVRatingClean['cleanYear'] = yearVRating.index"
      ],
      "execution_count": 90,
      "outputs": []
    },
    {
      "cell_type": "code",
      "metadata": {
        "colab": {
          "base_uri": "https://localhost:8080/",
          "height": 448
        },
        "id": "bReLIvCx_m_N",
        "outputId": "5c09160b-b821-4bad-bc9d-bc76ef861827"
      },
      "source": [
        "yearVRatingClean"
      ],
      "execution_count": 95,
      "outputs": [
        {
          "output_type": "execute_result",
          "data": {
            "text/html": [
              "<div>\n",
              "<style scoped>\n",
              "    .dataframe tbody tr th:only-of-type {\n",
              "        vertical-align: middle;\n",
              "    }\n",
              "\n",
              "    .dataframe tbody tr th {\n",
              "        vertical-align: top;\n",
              "    }\n",
              "\n",
              "    .dataframe thead th {\n",
              "        text-align: right;\n",
              "    }\n",
              "</style>\n",
              "<table border=\"1\" class=\"dataframe\">\n",
              "  <thead>\n",
              "    <tr style=\"text-align: right;\">\n",
              "      <th></th>\n",
              "      <th>mean_vote</th>\n",
              "      <th>cleanYear</th>\n",
              "    </tr>\n",
              "    <tr>\n",
              "      <th>cleanYear</th>\n",
              "      <th></th>\n",
              "      <th></th>\n",
              "    </tr>\n",
              "  </thead>\n",
              "  <tbody>\n",
              "    <tr>\n",
              "      <th>1894</th>\n",
              "      <td>5.900000</td>\n",
              "      <td>1894</td>\n",
              "    </tr>\n",
              "    <tr>\n",
              "      <th>1906</th>\n",
              "      <td>6.300000</td>\n",
              "      <td>1906</td>\n",
              "    </tr>\n",
              "    <tr>\n",
              "      <th>1911</th>\n",
              "      <td>6.340000</td>\n",
              "      <td>1911</td>\n",
              "    </tr>\n",
              "    <tr>\n",
              "      <th>1912</th>\n",
              "      <td>6.120000</td>\n",
              "      <td>1912</td>\n",
              "    </tr>\n",
              "    <tr>\n",
              "      <th>1913</th>\n",
              "      <td>6.453846</td>\n",
              "      <td>1913</td>\n",
              "    </tr>\n",
              "    <tr>\n",
              "      <th>...</th>\n",
              "      <td>...</td>\n",
              "      <td>...</td>\n",
              "    </tr>\n",
              "    <tr>\n",
              "      <th>2016</th>\n",
              "      <td>6.039866</td>\n",
              "      <td>2016</td>\n",
              "    </tr>\n",
              "    <tr>\n",
              "      <th>2017</th>\n",
              "      <td>6.123040</td>\n",
              "      <td>2017</td>\n",
              "    </tr>\n",
              "    <tr>\n",
              "      <th>2018</th>\n",
              "      <td>6.133773</td>\n",
              "      <td>2018</td>\n",
              "    </tr>\n",
              "    <tr>\n",
              "      <th>2019</th>\n",
              "      <td>6.222238</td>\n",
              "      <td>2019</td>\n",
              "    </tr>\n",
              "    <tr>\n",
              "      <th>2020</th>\n",
              "      <td>6.048035</td>\n",
              "      <td>2020</td>\n",
              "    </tr>\n",
              "  </tbody>\n",
              "</table>\n",
              "<p>112 rows × 2 columns</p>\n",
              "</div>"
            ],
            "text/plain": [
              "           mean_vote  cleanYear\n",
              "cleanYear                      \n",
              "1894        5.900000       1894\n",
              "1906        6.300000       1906\n",
              "1911        6.340000       1911\n",
              "1912        6.120000       1912\n",
              "1913        6.453846       1913\n",
              "...              ...        ...\n",
              "2016        6.039866       2016\n",
              "2017        6.123040       2017\n",
              "2018        6.133773       2018\n",
              "2019        6.222238       2019\n",
              "2020        6.048035       2020\n",
              "\n",
              "[112 rows x 2 columns]"
            ]
          },
          "metadata": {
            "tags": []
          },
          "execution_count": 95
        }
      ]
    },
    {
      "cell_type": "markdown",
      "metadata": {
        "id": "JjAY8hwhrfAH"
      },
      "source": [
        "Now plot it. `O` is for ordinal data. `Q` is for quantitative. "
      ]
    },
    {
      "cell_type": "code",
      "metadata": {
        "colab": {
          "base_uri": "https://localhost:8080/",
          "height": 404
        },
        "id": "Tw8dzSlQ8xp-",
        "outputId": "d042daf0-e07c-4423-9286-3fb90bf6d690"
      },
      "source": [
        "alt.Chart(yearVRatingClean).mark_line().encode(x='cleanYear:O', y='mean_vote:Q')"
      ],
      "execution_count": 96,
      "outputs": [
        {
          "output_type": "execute_result",
          "data": {
            "text/plain": [
              "alt.Chart(...)"
            ],
            "text/html": [
              "\n",
              "<div id=\"altair-viz-a443fa87c0534b6eb765811e80dc31d9\"></div>\n",
              "<script type=\"text/javascript\">\n",
              "  (function(spec, embedOpt){\n",
              "    let outputDiv = document.currentScript.previousElementSibling;\n",
              "    if (outputDiv.id !== \"altair-viz-a443fa87c0534b6eb765811e80dc31d9\") {\n",
              "      outputDiv = document.getElementById(\"altair-viz-a443fa87c0534b6eb765811e80dc31d9\");\n",
              "    }\n",
              "    const paths = {\n",
              "      \"vega\": \"https://cdn.jsdelivr.net/npm//vega@5?noext\",\n",
              "      \"vega-lib\": \"https://cdn.jsdelivr.net/npm//vega-lib?noext\",\n",
              "      \"vega-lite\": \"https://cdn.jsdelivr.net/npm//vega-lite@4.8.1?noext\",\n",
              "      \"vega-embed\": \"https://cdn.jsdelivr.net/npm//vega-embed@6?noext\",\n",
              "    };\n",
              "\n",
              "    function loadScript(lib) {\n",
              "      return new Promise(function(resolve, reject) {\n",
              "        var s = document.createElement('script');\n",
              "        s.src = paths[lib];\n",
              "        s.async = true;\n",
              "        s.onload = () => resolve(paths[lib]);\n",
              "        s.onerror = () => reject(`Error loading script: ${paths[lib]}`);\n",
              "        document.getElementsByTagName(\"head\")[0].appendChild(s);\n",
              "      });\n",
              "    }\n",
              "\n",
              "    function showError(err) {\n",
              "      outputDiv.innerHTML = `<div class=\"error\" style=\"color:red;\">${err}</div>`;\n",
              "      throw err;\n",
              "    }\n",
              "\n",
              "    function displayChart(vegaEmbed) {\n",
              "      vegaEmbed(outputDiv, spec, embedOpt)\n",
              "        .catch(err => showError(`Javascript Error: ${err.message}<br>This usually means there's a typo in your chart specification. See the javascript console for the full traceback.`));\n",
              "    }\n",
              "\n",
              "    if(typeof define === \"function\" && define.amd) {\n",
              "      requirejs.config({paths});\n",
              "      require([\"vega-embed\"], displayChart, err => showError(`Error loading script: ${err.message}`));\n",
              "    } else if (typeof vegaEmbed === \"function\") {\n",
              "      displayChart(vegaEmbed);\n",
              "    } else {\n",
              "      loadScript(\"vega\")\n",
              "        .then(() => loadScript(\"vega-lite\"))\n",
              "        .then(() => loadScript(\"vega-embed\"))\n",
              "        .catch(showError)\n",
              "        .then(() => displayChart(vegaEmbed));\n",
              "    }\n",
              "  })({\"config\": {\"view\": {\"continuousWidth\": 400, \"continuousHeight\": 300}}, \"data\": {\"name\": \"data-e75bdc8311715424320875c4a88e26e4\"}, \"mark\": \"line\", \"encoding\": {\"x\": {\"type\": \"ordinal\", \"field\": \"cleanYear\"}, \"y\": {\"type\": \"quantitative\", \"field\": \"mean_vote\"}}, \"$schema\": \"https://vega.github.io/schema/vega-lite/v4.8.1.json\", \"datasets\": {\"data-e75bdc8311715424320875c4a88e26e4\": [{\"mean_vote\": 5.9, \"cleanYear\": 1894}, {\"mean_vote\": 6.3, \"cleanYear\": 1906}, {\"mean_vote\": 6.34, \"cleanYear\": 1911}, {\"mean_vote\": 6.12, \"cleanYear\": 1912}, {\"mean_vote\": 6.453846153846153, \"cleanYear\": 1913}, {\"mean_vote\": 6.322727272727272, \"cleanYear\": 1914}, {\"mean_vote\": 6.308695652173912, \"cleanYear\": 1915}, {\"mean_vote\": 6.5685714285714285, \"cleanYear\": 1916}, {\"mean_vote\": 6.520000000000001, \"cleanYear\": 1917}, {\"mean_vote\": 6.500000000000001, \"cleanYear\": 1918}, {\"mean_vote\": 6.731249999999999, \"cleanYear\": 1919}, {\"mean_vote\": 6.754166666666664, \"cleanYear\": 1920}, {\"mean_vote\": 6.951063829787234, \"cleanYear\": 1921}, {\"mean_vote\": 6.86904761904762, \"cleanYear\": 1922}, {\"mean_vote\": 7.117647058823529, \"cleanYear\": 1923}, {\"mean_vote\": 7.201960784313726, \"cleanYear\": 1924}, {\"mean_vote\": 6.938235294117646, \"cleanYear\": 1925}, {\"mean_vote\": 7.079999999999998, \"cleanYear\": 1926}, {\"mean_vote\": 7.040740740740741, \"cleanYear\": 1927}, {\"mean_vote\": 7.104761904761904, \"cleanYear\": 1928}, {\"mean_vote\": 6.669930069930069, \"cleanYear\": 1929}, {\"mean_vote\": 6.442134831460673, \"cleanYear\": 1930}, {\"mean_vote\": 6.570562770562771, \"cleanYear\": 1931}, {\"mean_vote\": 6.57786561264822, \"cleanYear\": 1932}, {\"mean_vote\": 6.637262357414447, \"cleanYear\": 1933}, {\"mean_vote\": 6.503806228373704, \"cleanYear\": 1934}, {\"mean_vote\": 6.584641638225253, \"cleanYear\": 1935}, {\"mean_vote\": 6.515488215488213, \"cleanYear\": 1936}, {\"mean_vote\": 6.574358974358972, \"cleanYear\": 1937}, {\"mean_vote\": 6.567128027681661, \"cleanYear\": 1938}, {\"mean_vote\": 6.659672131147538, \"cleanYear\": 1939}, {\"mean_vote\": 6.641883116883118, \"cleanYear\": 1940}, {\"mean_vote\": 6.650788643533125, \"cleanYear\": 1941}, {\"mean_vote\": 6.554220779220779, \"cleanYear\": 1942}, {\"mean_vote\": 6.684671532846719, \"cleanYear\": 1943}, {\"mean_vote\": 6.572161172161173, \"cleanYear\": 1944}, {\"mean_vote\": 6.69233870967742, \"cleanYear\": 1945}, {\"mean_vote\": 6.684671532846716, \"cleanYear\": 1946}, {\"mean_vote\": 6.758053691275168, \"cleanYear\": 1947}, {\"mean_vote\": 6.757313432835819, \"cleanYear\": 1948}, {\"mean_vote\": 6.741715976331359, \"cleanYear\": 1949}, {\"mean_vote\": 6.696561604584532, \"cleanYear\": 1950}, {\"mean_vote\": 6.672702702702703, \"cleanYear\": 1951}, {\"mean_vote\": 6.6192893401015285, \"cleanYear\": 1952}, {\"mean_vote\": 6.542822966507178, \"cleanYear\": 1953}, {\"mean_vote\": 6.539793281653746, \"cleanYear\": 1954}, {\"mean_vote\": 6.601946472019464, \"cleanYear\": 1955}, {\"mean_vote\": 6.5568292682926845, \"cleanYear\": 1956}, {\"mean_vote\": 6.4872437357631005, \"cleanYear\": 1957}, {\"mean_vote\": 6.533041575492338, \"cleanYear\": 1958}, {\"mean_vote\": 6.500233644859821, \"cleanYear\": 1959}, {\"mean_vote\": 6.642227378190258, \"cleanYear\": 1960}, {\"mean_vote\": 6.522171945701358, \"cleanYear\": 1961}, {\"mean_vote\": 6.623830734966591, \"cleanYear\": 1962}, {\"mean_vote\": 6.642152466367715, \"cleanYear\": 1963}, {\"mean_vote\": 6.550311850311851, \"cleanYear\": 1964}, {\"mean_vote\": 6.5467479674796705, \"cleanYear\": 1965}, {\"mean_vote\": 6.4782, \"cleanYear\": 1966}, {\"mean_vote\": 6.448256880733945, \"cleanYear\": 1967}, {\"mean_vote\": 6.390939597315439, \"cleanYear\": 1968}, {\"mean_vote\": 6.405479452054787, \"cleanYear\": 1969}, {\"mean_vote\": 6.347916666666665, \"cleanYear\": 1970}, {\"mean_vote\": 6.31017964071856, \"cleanYear\": 1971}, {\"mean_vote\": 6.3101978691019776, \"cleanYear\": 1972}, {\"mean_vote\": 6.319852941176472, \"cleanYear\": 1973}, {\"mean_vote\": 6.381685575364671, \"cleanYear\": 1974}, {\"mean_vote\": 6.372000000000001, \"cleanYear\": 1975}, {\"mean_vote\": 6.312322274881514, \"cleanYear\": 1976}, {\"mean_vote\": 6.370569105691056, \"cleanYear\": 1977}, {\"mean_vote\": 6.328469750889679, \"cleanYear\": 1978}, {\"mean_vote\": 6.350915141430947, \"cleanYear\": 1979}, {\"mean_vote\": 6.370333333333336, \"cleanYear\": 1980}, {\"mean_vote\": 6.425806451612902, \"cleanYear\": 1981}, {\"mean_vote\": 6.359264931087287, \"cleanYear\": 1982}, {\"mean_vote\": 6.319631901840486, \"cleanYear\": 1983}, {\"mean_vote\": 6.325787106446776, \"cleanYear\": 1984}, {\"mean_vote\": 6.291486291486294, \"cleanYear\": 1985}, {\"mean_vote\": 6.267560664112387, \"cleanYear\": 1986}, {\"mean_vote\": 6.1512309495896815, \"cleanYear\": 1987}, {\"mean_vote\": 6.11917808219178, \"cleanYear\": 1988}, {\"mean_vote\": 6.17534562211982, \"cleanYear\": 1989}, {\"mean_vote\": 6.21979565772669, \"cleanYear\": 1990}, {\"mean_vote\": 6.2919999999999945, \"cleanYear\": 1991}, {\"mean_vote\": 6.321744627054357, \"cleanYear\": 1992}, {\"mean_vote\": 6.253143534994068, \"cleanYear\": 1993}, {\"mean_vote\": 6.189816933638438, \"cleanYear\": 1994}, {\"mean_vote\": 6.206820566631682, \"cleanYear\": 1995}, {\"mean_vote\": 6.162306900102983, \"cleanYear\": 1996}, {\"mean_vote\": 6.212062615101295, \"cleanYear\": 1997}, {\"mean_vote\": 6.214592274678108, \"cleanYear\": 1998}, {\"mean_vote\": 6.155319148936173, \"cleanYear\": 1999}, {\"mean_vote\": 6.160446096654268, \"cleanYear\": 2000}, {\"mean_vote\": 6.175120939875616, \"cleanYear\": 2001}, {\"mean_vote\": 6.20654804270463, \"cleanYear\": 2002}, {\"mean_vote\": 6.115441176470586, \"cleanYear\": 2003}, {\"mean_vote\": 6.191493158834033, \"cleanYear\": 2004}, {\"mean_vote\": 6.156212370005474, \"cleanYear\": 2005}, {\"mean_vote\": 6.096558410082401, \"cleanYear\": 2006}, {\"mean_vote\": 6.133510125361617, \"cleanYear\": 2007}, {\"mean_vote\": 6.0424827586206895, \"cleanYear\": 2008}, {\"mean_vote\": 6.015578764142721, \"cleanYear\": 2009}, {\"mean_vote\": 6.029197720298112, \"cleanYear\": 2010}, {\"mean_vote\": 6.022149032523666, \"cleanYear\": 2011}, {\"mean_vote\": 6.027929687499992, \"cleanYear\": 2012}, {\"mean_vote\": 6.014229249011848, \"cleanYear\": 2013}, {\"mean_vote\": 6.05523453433039, \"cleanYear\": 2014}, {\"mean_vote\": 5.980953980517301, \"cleanYear\": 2015}, {\"mean_vote\": 6.039866156787769, \"cleanYear\": 2016}, {\"mean_vote\": 6.123039951937516, \"cleanYear\": 2017}, {\"mean_vote\": 6.133773411114526, \"cleanYear\": 2018}, {\"mean_vote\": 6.222237860661512, \"cleanYear\": 2019}, {\"mean_vote\": 6.04803548795944, \"cleanYear\": 2020}]}}, {\"mode\": \"vega-lite\"});\n",
              "</script>"
            ]
          },
          "metadata": {
            "tags": []
          },
          "execution_count": 96
        }
      ]
    },
    {
      "cell_type": "code",
      "metadata": {
        "id": "g09u1XIn-xhr"
      },
      "source": [
        "yearVRating = df.groupby('decade')['mean_vote'].mean()"
      ],
      "execution_count": 109,
      "outputs": []
    },
    {
      "cell_type": "code",
      "metadata": {
        "id": "qB-5LnUfBhbx"
      },
      "source": [
        "yearVRatingClean = yearVRating.to_frame()"
      ],
      "execution_count": 110,
      "outputs": []
    },
    {
      "cell_type": "code",
      "metadata": {
        "id": "RKFvPusPBjfH"
      },
      "source": [
        "yearVRatingClean['decade'] = yearVRating.index"
      ],
      "execution_count": 111,
      "outputs": []
    },
    {
      "cell_type": "code",
      "metadata": {
        "colab": {
          "base_uri": "https://localhost:8080/",
          "height": 511
        },
        "id": "twht1T5MBlXG",
        "outputId": "9bd2ab8b-e38e-489b-ddaf-00677bdb8df5"
      },
      "source": [
        "yearVRatingClean"
      ],
      "execution_count": 112,
      "outputs": [
        {
          "output_type": "execute_result",
          "data": {
            "text/html": [
              "<div>\n",
              "<style scoped>\n",
              "    .dataframe tbody tr th:only-of-type {\n",
              "        vertical-align: middle;\n",
              "    }\n",
              "\n",
              "    .dataframe tbody tr th {\n",
              "        vertical-align: top;\n",
              "    }\n",
              "\n",
              "    .dataframe thead th {\n",
              "        text-align: right;\n",
              "    }\n",
              "</style>\n",
              "<table border=\"1\" class=\"dataframe\">\n",
              "  <thead>\n",
              "    <tr style=\"text-align: right;\">\n",
              "      <th></th>\n",
              "      <th>mean_vote</th>\n",
              "      <th>decade</th>\n",
              "    </tr>\n",
              "    <tr>\n",
              "      <th>decade</th>\n",
              "      <th></th>\n",
              "      <th></th>\n",
              "    </tr>\n",
              "  </thead>\n",
              "  <tbody>\n",
              "    <tr>\n",
              "      <th>1890</th>\n",
              "      <td>5.900000</td>\n",
              "      <td>1890</td>\n",
              "    </tr>\n",
              "    <tr>\n",
              "      <th>1900</th>\n",
              "      <td>6.300000</td>\n",
              "      <td>1900</td>\n",
              "    </tr>\n",
              "    <tr>\n",
              "      <th>1910</th>\n",
              "      <td>6.511765</td>\n",
              "      <td>1910</td>\n",
              "    </tr>\n",
              "    <tr>\n",
              "      <th>1920</th>\n",
              "      <td>6.942645</td>\n",
              "      <td>1920</td>\n",
              "    </tr>\n",
              "    <tr>\n",
              "      <th>1930</th>\n",
              "      <td>6.567749</td>\n",
              "      <td>1930</td>\n",
              "    </tr>\n",
              "    <tr>\n",
              "      <th>1940</th>\n",
              "      <td>6.675446</td>\n",
              "      <td>1940</td>\n",
              "    </tr>\n",
              "    <tr>\n",
              "      <th>1950</th>\n",
              "      <td>6.570785</td>\n",
              "      <td>1950</td>\n",
              "    </tr>\n",
              "    <tr>\n",
              "      <th>1960</th>\n",
              "      <td>6.515707</td>\n",
              "      <td>1960</td>\n",
              "    </tr>\n",
              "    <tr>\n",
              "      <th>1970</th>\n",
              "      <td>6.339554</td>\n",
              "      <td>1970</td>\n",
              "    </tr>\n",
              "    <tr>\n",
              "      <th>1980</th>\n",
              "      <td>6.267529</td>\n",
              "      <td>1980</td>\n",
              "    </tr>\n",
              "    <tr>\n",
              "      <th>1990</th>\n",
              "      <td>6.216658</td>\n",
              "      <td>1990</td>\n",
              "    </tr>\n",
              "    <tr>\n",
              "      <th>2000</th>\n",
              "      <td>6.120358</td>\n",
              "      <td>2000</td>\n",
              "    </tr>\n",
              "    <tr>\n",
              "      <th>2010</th>\n",
              "      <td>6.067955</td>\n",
              "      <td>2010</td>\n",
              "    </tr>\n",
              "    <tr>\n",
              "      <th>2020</th>\n",
              "      <td>6.048035</td>\n",
              "      <td>2020</td>\n",
              "    </tr>\n",
              "  </tbody>\n",
              "</table>\n",
              "</div>"
            ],
            "text/plain": [
              "        mean_vote  decade\n",
              "decade                   \n",
              "1890     5.900000    1890\n",
              "1900     6.300000    1900\n",
              "1910     6.511765    1910\n",
              "1920     6.942645    1920\n",
              "1930     6.567749    1930\n",
              "1940     6.675446    1940\n",
              "1950     6.570785    1950\n",
              "1960     6.515707    1960\n",
              "1970     6.339554    1970\n",
              "1980     6.267529    1980\n",
              "1990     6.216658    1990\n",
              "2000     6.120358    2000\n",
              "2010     6.067955    2010\n",
              "2020     6.048035    2020"
            ]
          },
          "metadata": {
            "tags": []
          },
          "execution_count": 112
        }
      ]
    },
    {
      "cell_type": "code",
      "metadata": {
        "colab": {
          "base_uri": "https://localhost:8080/",
          "height": 384
        },
        "id": "Jq2KpTQiBn16",
        "outputId": "561c0abe-4b67-4c6e-c721-de761d13b7f8"
      },
      "source": [
        "alt.Chart(yearVRatingClean).mark_line().encode(x='decade:O', y='mean_vote:Q').interactive()"
      ],
      "execution_count": 114,
      "outputs": [
        {
          "output_type": "execute_result",
          "data": {
            "text/plain": [
              "alt.Chart(...)"
            ],
            "text/html": [
              "\n",
              "<div id=\"altair-viz-c7e404a5f51a482eac5e874e4c018828\"></div>\n",
              "<script type=\"text/javascript\">\n",
              "  (function(spec, embedOpt){\n",
              "    let outputDiv = document.currentScript.previousElementSibling;\n",
              "    if (outputDiv.id !== \"altair-viz-c7e404a5f51a482eac5e874e4c018828\") {\n",
              "      outputDiv = document.getElementById(\"altair-viz-c7e404a5f51a482eac5e874e4c018828\");\n",
              "    }\n",
              "    const paths = {\n",
              "      \"vega\": \"https://cdn.jsdelivr.net/npm//vega@5?noext\",\n",
              "      \"vega-lib\": \"https://cdn.jsdelivr.net/npm//vega-lib?noext\",\n",
              "      \"vega-lite\": \"https://cdn.jsdelivr.net/npm//vega-lite@4.8.1?noext\",\n",
              "      \"vega-embed\": \"https://cdn.jsdelivr.net/npm//vega-embed@6?noext\",\n",
              "    };\n",
              "\n",
              "    function loadScript(lib) {\n",
              "      return new Promise(function(resolve, reject) {\n",
              "        var s = document.createElement('script');\n",
              "        s.src = paths[lib];\n",
              "        s.async = true;\n",
              "        s.onload = () => resolve(paths[lib]);\n",
              "        s.onerror = () => reject(`Error loading script: ${paths[lib]}`);\n",
              "        document.getElementsByTagName(\"head\")[0].appendChild(s);\n",
              "      });\n",
              "    }\n",
              "\n",
              "    function showError(err) {\n",
              "      outputDiv.innerHTML = `<div class=\"error\" style=\"color:red;\">${err}</div>`;\n",
              "      throw err;\n",
              "    }\n",
              "\n",
              "    function displayChart(vegaEmbed) {\n",
              "      vegaEmbed(outputDiv, spec, embedOpt)\n",
              "        .catch(err => showError(`Javascript Error: ${err.message}<br>This usually means there's a typo in your chart specification. See the javascript console for the full traceback.`));\n",
              "    }\n",
              "\n",
              "    if(typeof define === \"function\" && define.amd) {\n",
              "      requirejs.config({paths});\n",
              "      require([\"vega-embed\"], displayChart, err => showError(`Error loading script: ${err.message}`));\n",
              "    } else if (typeof vegaEmbed === \"function\") {\n",
              "      displayChart(vegaEmbed);\n",
              "    } else {\n",
              "      loadScript(\"vega\")\n",
              "        .then(() => loadScript(\"vega-lite\"))\n",
              "        .then(() => loadScript(\"vega-embed\"))\n",
              "        .catch(showError)\n",
              "        .then(() => displayChart(vegaEmbed));\n",
              "    }\n",
              "  })({\"config\": {\"view\": {\"continuousWidth\": 400, \"continuousHeight\": 300}}, \"data\": {\"name\": \"data-942649a194bb87d4fa3c1549f255a36f\"}, \"mark\": \"line\", \"encoding\": {\"x\": {\"type\": \"ordinal\", \"field\": \"decade\"}, \"y\": {\"type\": \"quantitative\", \"field\": \"mean_vote\"}}, \"selection\": {\"selector001\": {\"type\": \"interval\", \"bind\": \"scales\", \"encodings\": [\"x\", \"y\"]}}, \"$schema\": \"https://vega.github.io/schema/vega-lite/v4.8.1.json\", \"datasets\": {\"data-942649a194bb87d4fa3c1549f255a36f\": [{\"mean_vote\": 5.9, \"decade\": 1890}, {\"mean_vote\": 6.3, \"decade\": 1900}, {\"mean_vote\": 6.511764705882354, \"decade\": 1910}, {\"mean_vote\": 6.9426448736998525, \"decade\": 1920}, {\"mean_vote\": 6.567749077490763, \"decade\": 1930}, {\"mean_vote\": 6.675445677766564, \"decade\": 1940}, {\"mean_vote\": 6.570785134137339, \"decade\": 1950}, {\"mean_vote\": 6.515706806282722, \"decade\": 1960}, {\"mean_vote\": 6.339553915276003, \"decade\": 1970}, {\"mean_vote\": 6.267529249827944, \"decade\": 1980}, {\"mean_vote\": 6.216658012254642, \"decade\": 1990}, {\"mean_vote\": 6.120358205603262, \"decade\": 2000}, {\"mean_vote\": 6.067955007358569, \"decade\": 2010}, {\"mean_vote\": 6.04803548795944, \"decade\": 2020}]}}, {\"mode\": \"vega-lite\"});\n",
              "</script>"
            ]
          },
          "metadata": {
            "tags": []
          },
          "execution_count": 114
        }
      ]
    },
    {
      "cell_type": "code",
      "metadata": {
        "colab": {
          "base_uri": "https://localhost:8080/"
        },
        "id": "8OxNDHsPB2qZ",
        "outputId": "d475a083-8797-4a18-c18e-5017e7685bd5"
      },
      "source": [
        "df[['country', 'mean_vote']].groupby('country')['mean_vote'].mean().sort_values(ascending=False)"
      ],
      "execution_count": 118,
      "outputs": [
        {
          "output_type": "execute_result",
          "data": {
            "text/plain": [
              "country\n",
              "Panama, USA, Argentina                               9.4\n",
              "Russia, Ukraine, Czech Republic, Japan               9.4\n",
              "Russia, Belgium, Spain, Ukraine                      9.4\n",
              "Uzbekistan, Russia                                   9.2\n",
              "Spain, Russia                                        9.2\n",
              "                                                    ... \n",
              "South Africa, UK, USA                                2.0\n",
              "India, China, United Arab Emirates, USA, Malaysia    2.0\n",
              "Hungary, Serbia                                      1.9\n",
              "Belgium, Japan                                       1.6\n",
              "USA, Argentina, South Africa, Japan, Israel          1.3\n",
              "Name: mean_vote, Length: 4907, dtype: float64"
            ]
          },
          "metadata": {
            "tags": []
          },
          "execution_count": 118
        }
      ]
    },
    {
      "cell_type": "code",
      "metadata": {
        "id": "DRRuTDaXDQrB"
      },
      "source": [
        "def firstCountry(country): \n",
        "    if type(country) != str: \n",
        "        country = \"\"\n",
        "    firstCountry = country.split(',')[0]\n",
        "    return firstCountry"
      ],
      "execution_count": 121,
      "outputs": []
    },
    {
      "cell_type": "code",
      "metadata": {
        "id": "iq__KVMQCe7L"
      },
      "source": [
        "df['cleanCountry'] = df['country'].apply(firstCountry)"
      ],
      "execution_count": 123,
      "outputs": []
    },
    {
      "cell_type": "code",
      "metadata": {
        "colab": {
          "base_uri": "https://localhost:8080/",
          "height": 460
        },
        "id": "NgLK-ncEDc6z",
        "outputId": "95b950bd-f469-4acb-c33e-a44fb48dd30c"
      },
      "source": [
        "df.groupby('cleanCountry')['mean_vote'].mean(\n",
        "    ).sort_values(ascending=False).plot(kind='bar', figsize=(12,4))"
      ],
      "execution_count": 135,
      "outputs": [
        {
          "output_type": "execute_result",
          "data": {
            "text/plain": [
              "<matplotlib.axes._subplots.AxesSubplot at 0x7f9b44249650>"
            ]
          },
          "metadata": {
            "tags": []
          },
          "execution_count": 135
        },
        {
          "output_type": "display_data",
          "data": {
            "image/png": "[encoded data removed]",
            "text/plain": [
              "<Figure size 864x288 with 1 Axes>"
            ]
          },
          "metadata": {
            "tags": [],
            "needs_background": "light"
          }
        }
      ]
    },
    {
      "cell_type": "code",
      "metadata": {
        "id": "M3PCLOKXDxqN"
      },
      "source": [
        "myColumns = ['cleanCountry', 'decade']"
      ],
      "execution_count": 132,
      "outputs": []
    },
    {
      "cell_type": "code",
      "metadata": {
        "colab": {
          "base_uri": "https://localhost:8080/",
          "height": 417
        },
        "id": "Buc0mfUdEW6r",
        "outputId": "622ea56d-16b5-4689-ecf7-3dedb7dd4525"
      },
      "source": [
        "df[myColumns]"
      ],
      "execution_count": 133,
      "outputs": [
        {
          "output_type": "execute_result",
          "data": {
            "text/html": [
              "<div>\n",
              "<style scoped>\n",
              "    .dataframe tbody tr th:only-of-type {\n",
              "        vertical-align: middle;\n",
              "    }\n",
              "\n",
              "    .dataframe tbody tr th {\n",
              "        vertical-align: top;\n",
              "    }\n",
              "\n",
              "    .dataframe thead th {\n",
              "        text-align: right;\n",
              "    }\n",
              "</style>\n",
              "<table border=\"1\" class=\"dataframe\">\n",
              "  <thead>\n",
              "    <tr style=\"text-align: right;\">\n",
              "      <th></th>\n",
              "      <th>cleanCountry</th>\n",
              "      <th>decade</th>\n",
              "    </tr>\n",
              "  </thead>\n",
              "  <tbody>\n",
              "    <tr>\n",
              "      <th>0</th>\n",
              "      <td>USA</td>\n",
              "      <td>1890</td>\n",
              "    </tr>\n",
              "    <tr>\n",
              "      <th>1</th>\n",
              "      <td>Australia</td>\n",
              "      <td>1900</td>\n",
              "    </tr>\n",
              "    <tr>\n",
              "      <th>2</th>\n",
              "      <td>Germany</td>\n",
              "      <td>1910</td>\n",
              "    </tr>\n",
              "    <tr>\n",
              "      <th>3</th>\n",
              "      <td>USA</td>\n",
              "      <td>1910</td>\n",
              "    </tr>\n",
              "    <tr>\n",
              "      <th>4</th>\n",
              "      <td>Italy</td>\n",
              "      <td>1910</td>\n",
              "    </tr>\n",
              "    <tr>\n",
              "      <th>...</th>\n",
              "      <td>...</td>\n",
              "      <td>...</td>\n",
              "    </tr>\n",
              "    <tr>\n",
              "      <th>85850</th>\n",
              "      <td>France</td>\n",
              "      <td>2020</td>\n",
              "    </tr>\n",
              "    <tr>\n",
              "      <th>85851</th>\n",
              "      <td>Netherlands</td>\n",
              "      <td>2020</td>\n",
              "    </tr>\n",
              "    <tr>\n",
              "      <th>85852</th>\n",
              "      <td>India</td>\n",
              "      <td>2010</td>\n",
              "    </tr>\n",
              "    <tr>\n",
              "      <th>85853</th>\n",
              "      <td>Turkey</td>\n",
              "      <td>2010</td>\n",
              "    </tr>\n",
              "    <tr>\n",
              "      <th>85854</th>\n",
              "      <td>Spain</td>\n",
              "      <td>2010</td>\n",
              "    </tr>\n",
              "  </tbody>\n",
              "</table>\n",
              "<p>85855 rows × 2 columns</p>\n",
              "</div>"
            ],
            "text/plain": [
              "      cleanCountry  decade\n",
              "0              USA    1890\n",
              "1        Australia    1900\n",
              "2          Germany    1910\n",
              "3              USA    1910\n",
              "4            Italy    1910\n",
              "...            ...     ...\n",
              "85850       France    2020\n",
              "85851  Netherlands    2020\n",
              "85852        India    2010\n",
              "85853       Turkey    2010\n",
              "85854        Spain    2010\n",
              "\n",
              "[85855 rows x 2 columns]"
            ]
          },
          "metadata": {
            "tags": []
          },
          "execution_count": 133
        }
      ]
    },
    {
      "cell_type": "code",
      "metadata": {
        "colab": {
          "base_uri": "https://localhost:8080/",
          "height": 417
        },
        "id": "pPmqjX5hEeJu",
        "outputId": "5034e21a-ff82-422a-8bb8-c3c82e492cc8"
      },
      "source": [
        "df[['cleanCountry', 'decade']]"
      ],
      "execution_count": 134,
      "outputs": [
        {
          "output_type": "execute_result",
          "data": {
            "text/html": [
              "<div>\n",
              "<style scoped>\n",
              "    .dataframe tbody tr th:only-of-type {\n",
              "        vertical-align: middle;\n",
              "    }\n",
              "\n",
              "    .dataframe tbody tr th {\n",
              "        vertical-align: top;\n",
              "    }\n",
              "\n",
              "    .dataframe thead th {\n",
              "        text-align: right;\n",
              "    }\n",
              "</style>\n",
              "<table border=\"1\" class=\"dataframe\">\n",
              "  <thead>\n",
              "    <tr style=\"text-align: right;\">\n",
              "      <th></th>\n",
              "      <th>cleanCountry</th>\n",
              "      <th>decade</th>\n",
              "    </tr>\n",
              "  </thead>\n",
              "  <tbody>\n",
              "    <tr>\n",
              "      <th>0</th>\n",
              "      <td>USA</td>\n",
              "      <td>1890</td>\n",
              "    </tr>\n",
              "    <tr>\n",
              "      <th>1</th>\n",
              "      <td>Australia</td>\n",
              "      <td>1900</td>\n",
              "    </tr>\n",
              "    <tr>\n",
              "      <th>2</th>\n",
              "      <td>Germany</td>\n",
              "      <td>1910</td>\n",
              "    </tr>\n",
              "    <tr>\n",
              "      <th>3</th>\n",
              "      <td>USA</td>\n",
              "      <td>1910</td>\n",
              "    </tr>\n",
              "    <tr>\n",
              "      <th>4</th>\n",
              "      <td>Italy</td>\n",
              "      <td>1910</td>\n",
              "    </tr>\n",
              "    <tr>\n",
              "      <th>...</th>\n",
              "      <td>...</td>\n",
              "      <td>...</td>\n",
              "    </tr>\n",
              "    <tr>\n",
              "      <th>85850</th>\n",
              "      <td>France</td>\n",
              "      <td>2020</td>\n",
              "    </tr>\n",
              "    <tr>\n",
              "      <th>85851</th>\n",
              "      <td>Netherlands</td>\n",
              "      <td>2020</td>\n",
              "    </tr>\n",
              "    <tr>\n",
              "      <th>85852</th>\n",
              "      <td>India</td>\n",
              "      <td>2010</td>\n",
              "    </tr>\n",
              "    <tr>\n",
              "      <th>85853</th>\n",
              "      <td>Turkey</td>\n",
              "      <td>2010</td>\n",
              "    </tr>\n",
              "    <tr>\n",
              "      <th>85854</th>\n",
              "      <td>Spain</td>\n",
              "      <td>2010</td>\n",
              "    </tr>\n",
              "  </tbody>\n",
              "</table>\n",
              "<p>85855 rows × 2 columns</p>\n",
              "</div>"
            ],
            "text/plain": [
              "      cleanCountry  decade\n",
              "0              USA    1890\n",
              "1        Australia    1900\n",
              "2          Germany    1910\n",
              "3              USA    1910\n",
              "4            Italy    1910\n",
              "...            ...     ...\n",
              "85850       France    2020\n",
              "85851  Netherlands    2020\n",
              "85852        India    2010\n",
              "85853       Turkey    2010\n",
              "85854        Spain    2010\n",
              "\n",
              "[85855 rows x 2 columns]"
            ]
          },
          "metadata": {
            "tags": []
          },
          "execution_count": 134
        }
      ]
    },
    {
      "cell_type": "code",
      "metadata": {
        "id": "uPQg-lJ2EjHn"
      },
      "source": [
        "countryRating = df.groupby('cleanCountry')['mean_vote'].mean().sort_values(ascending=False)"
      ],
      "execution_count": 138,
      "outputs": []
    },
    {
      "cell_type": "code",
      "metadata": {
        "id": "yEgvAXIBE3Yt"
      },
      "source": [
        "countryRatingDf = countryRating.to_frame()\n",
        "countryRatingDf['cleanCountry'] = countryRatingDf.index"
      ],
      "execution_count": 141,
      "outputs": []
    },
    {
      "cell_type": "code",
      "metadata": {
        "colab": {
          "base_uri": "https://localhost:8080/",
          "height": 448
        },
        "id": "D5pCbhx7E8cd",
        "outputId": "df7ff0d5-69ec-4a14-b2cd-a67140cf2be3"
      },
      "source": [
        "countryRatingDf.sort_values('mean_vote')"
      ],
      "execution_count": 144,
      "outputs": [
        {
          "output_type": "execute_result",
          "data": {
            "text/html": [
              "<div>\n",
              "<style scoped>\n",
              "    .dataframe tbody tr th:only-of-type {\n",
              "        vertical-align: middle;\n",
              "    }\n",
              "\n",
              "    .dataframe tbody tr th {\n",
              "        vertical-align: top;\n",
              "    }\n",
              "\n",
              "    .dataframe thead th {\n",
              "        text-align: right;\n",
              "    }\n",
              "</style>\n",
              "<table border=\"1\" class=\"dataframe\">\n",
              "  <thead>\n",
              "    <tr style=\"text-align: right;\">\n",
              "      <th></th>\n",
              "      <th>mean_vote</th>\n",
              "      <th>cleanCountry</th>\n",
              "    </tr>\n",
              "    <tr>\n",
              "      <th>cleanCountry</th>\n",
              "      <th></th>\n",
              "      <th></th>\n",
              "    </tr>\n",
              "  </thead>\n",
              "  <tbody>\n",
              "    <tr>\n",
              "      <th>Gibraltar</th>\n",
              "      <td>4.30</td>\n",
              "      <td>Gibraltar</td>\n",
              "    </tr>\n",
              "    <tr>\n",
              "      <th>Aruba</th>\n",
              "      <td>4.95</td>\n",
              "      <td>Aruba</td>\n",
              "    </tr>\n",
              "    <tr>\n",
              "      <th>Zambia</th>\n",
              "      <td>5.20</td>\n",
              "      <td>Zambia</td>\n",
              "    </tr>\n",
              "    <tr>\n",
              "      <th>Korea</th>\n",
              "      <td>5.20</td>\n",
              "      <td>Korea</td>\n",
              "    </tr>\n",
              "    <tr>\n",
              "      <th>Andorra</th>\n",
              "      <td>5.40</td>\n",
              "      <td>Andorra</td>\n",
              "    </tr>\n",
              "    <tr>\n",
              "      <th>...</th>\n",
              "      <td>...</td>\n",
              "      <td>...</td>\n",
              "    </tr>\n",
              "    <tr>\n",
              "      <th>Myanmar</th>\n",
              "      <td>8.00</td>\n",
              "      <td>Myanmar</td>\n",
              "    </tr>\n",
              "    <tr>\n",
              "      <th>Moldova</th>\n",
              "      <td>8.00</td>\n",
              "      <td>Moldova</td>\n",
              "    </tr>\n",
              "    <tr>\n",
              "      <th>Yemen</th>\n",
              "      <td>8.30</td>\n",
              "      <td>Yemen</td>\n",
              "    </tr>\n",
              "    <tr>\n",
              "      <th>Libya</th>\n",
              "      <td>8.60</td>\n",
              "      <td>Libya</td>\n",
              "    </tr>\n",
              "    <tr>\n",
              "      <th>Uzbekistan</th>\n",
              "      <td>9.20</td>\n",
              "      <td>Uzbekistan</td>\n",
              "    </tr>\n",
              "  </tbody>\n",
              "</table>\n",
              "<p>162 rows × 2 columns</p>\n",
              "</div>"
            ],
            "text/plain": [
              "              mean_vote cleanCountry\n",
              "cleanCountry                        \n",
              "Gibraltar          4.30    Gibraltar\n",
              "Aruba              4.95        Aruba\n",
              "Zambia             5.20       Zambia\n",
              "Korea              5.20        Korea\n",
              "Andorra            5.40      Andorra\n",
              "...                 ...          ...\n",
              "Myanmar            8.00      Myanmar\n",
              "Moldova            8.00      Moldova\n",
              "Yemen              8.30        Yemen\n",
              "Libya              8.60        Libya\n",
              "Uzbekistan         9.20   Uzbekistan\n",
              "\n",
              "[162 rows x 2 columns]"
            ]
          },
          "metadata": {
            "tags": []
          },
          "execution_count": 144
        }
      ]
    },
    {
      "cell_type": "code",
      "metadata": {
        "id": "Timxdc7uFv-l"
      },
      "source": [
        "countryRatingDf = countryRatingDf.sort_values('mean_vote')"
      ],
      "execution_count": 147,
      "outputs": []
    },
    {
      "cell_type": "code",
      "metadata": {
        "colab": {
          "base_uri": "https://localhost:8080/",
          "height": 448
        },
        "id": "0iKBfJCaGAQQ",
        "outputId": "63a421d6-f09a-426c-cebf-e7c8cc7f9d55"
      },
      "source": [
        "countryRatingDf"
      ],
      "execution_count": 148,
      "outputs": [
        {
          "output_type": "execute_result",
          "data": {
            "text/html": [
              "<div>\n",
              "<style scoped>\n",
              "    .dataframe tbody tr th:only-of-type {\n",
              "        vertical-align: middle;\n",
              "    }\n",
              "\n",
              "    .dataframe tbody tr th {\n",
              "        vertical-align: top;\n",
              "    }\n",
              "\n",
              "    .dataframe thead th {\n",
              "        text-align: right;\n",
              "    }\n",
              "</style>\n",
              "<table border=\"1\" class=\"dataframe\">\n",
              "  <thead>\n",
              "    <tr style=\"text-align: right;\">\n",
              "      <th></th>\n",
              "      <th>mean_vote</th>\n",
              "      <th>cleanCountry</th>\n",
              "    </tr>\n",
              "    <tr>\n",
              "      <th>cleanCountry</th>\n",
              "      <th></th>\n",
              "      <th></th>\n",
              "    </tr>\n",
              "  </thead>\n",
              "  <tbody>\n",
              "    <tr>\n",
              "      <th>Gibraltar</th>\n",
              "      <td>4.30</td>\n",
              "      <td>Gibraltar</td>\n",
              "    </tr>\n",
              "    <tr>\n",
              "      <th>Aruba</th>\n",
              "      <td>4.95</td>\n",
              "      <td>Aruba</td>\n",
              "    </tr>\n",
              "    <tr>\n",
              "      <th>Zambia</th>\n",
              "      <td>5.20</td>\n",
              "      <td>Zambia</td>\n",
              "    </tr>\n",
              "    <tr>\n",
              "      <th>Korea</th>\n",
              "      <td>5.20</td>\n",
              "      <td>Korea</td>\n",
              "    </tr>\n",
              "    <tr>\n",
              "      <th>Andorra</th>\n",
              "      <td>5.40</td>\n",
              "      <td>Andorra</td>\n",
              "    </tr>\n",
              "    <tr>\n",
              "      <th>...</th>\n",
              "      <td>...</td>\n",
              "      <td>...</td>\n",
              "    </tr>\n",
              "    <tr>\n",
              "      <th>Myanmar</th>\n",
              "      <td>8.00</td>\n",
              "      <td>Myanmar</td>\n",
              "    </tr>\n",
              "    <tr>\n",
              "      <th>Moldova</th>\n",
              "      <td>8.00</td>\n",
              "      <td>Moldova</td>\n",
              "    </tr>\n",
              "    <tr>\n",
              "      <th>Yemen</th>\n",
              "      <td>8.30</td>\n",
              "      <td>Yemen</td>\n",
              "    </tr>\n",
              "    <tr>\n",
              "      <th>Libya</th>\n",
              "      <td>8.60</td>\n",
              "      <td>Libya</td>\n",
              "    </tr>\n",
              "    <tr>\n",
              "      <th>Uzbekistan</th>\n",
              "      <td>9.20</td>\n",
              "      <td>Uzbekistan</td>\n",
              "    </tr>\n",
              "  </tbody>\n",
              "</table>\n",
              "<p>162 rows × 2 columns</p>\n",
              "</div>"
            ],
            "text/plain": [
              "              mean_vote cleanCountry\n",
              "cleanCountry                        \n",
              "Gibraltar          4.30    Gibraltar\n",
              "Aruba              4.95        Aruba\n",
              "Zambia             5.20       Zambia\n",
              "Korea              5.20        Korea\n",
              "Andorra            5.40      Andorra\n",
              "...                 ...          ...\n",
              "Myanmar            8.00      Myanmar\n",
              "Moldova            8.00      Moldova\n",
              "Yemen              8.30        Yemen\n",
              "Libya              8.60        Libya\n",
              "Uzbekistan         9.20   Uzbekistan\n",
              "\n",
              "[162 rows x 2 columns]"
            ]
          },
          "metadata": {
            "tags": []
          },
          "execution_count": 148
        }
      ]
    },
    {
      "cell_type": "code",
      "metadata": {
        "id": "8cmALMhkFPeo"
      },
      "source": [
        "alt.Chart(countryRatingDf).mark_bar().encode(x='mean_vote:Q', y='cleanCountry').interactive()"
      ],
      "execution_count": null,
      "outputs": []
    }
  ]
}