{
  "nbformat": 4,
  "nbformat_minor": 0,
  "metadata": {
    "colab": {
      "name": "python-biology-apis-ml.ipynb",
      "provenance": []
    },
    "kernelspec": {
      "name": "python3",
      "display_name": "Python 3"
    },
    "language_info": {
      "name": "python"
    }
  },
  "cells": [
    {
      "cell_type": "markdown",
      "metadata": {
        "id": "QmLwmJmZ3j2e"
      },
      "source": [
        "# Python for Biology: 5: APIs and Machine Learning\n",
        "\n",
        "API: Application Programming Interface\n",
        "\n",
        " - computers talk to other computers\n",
        " - REST API (Representation State Transfer) - web\n",
        "\n",
        " "
      ]
    },
    {
      "cell_type": "code",
      "metadata": {
        "id": "M1nLkaDR3pXJ"
      },
      "source": [
        "import pandas as pd\n",
        "import requests\n",
        "import json\n",
        "import numpy as np"
      ],
      "execution_count": 137,
      "outputs": []
    },
    {
      "cell_type": "code",
      "metadata": {
        "id": "N2XAAkiz5bkY"
      },
      "source": [
        "response = requests.get(\"https://goweather.herokuapp.com/weather/Khartoum\")"
      ],
      "execution_count": 79,
      "outputs": []
    },
    {
      "cell_type": "code",
      "metadata": {
        "colab": {
          "base_uri": "https://localhost:8080/"
        },
        "id": "i9xxBLAv58Zo",
        "outputId": "54fea648-7cb5-4550-ef4d-e95e04828ab5"
      },
      "source": [
        "response.status_code"
      ],
      "execution_count": 80,
      "outputs": [
        {
          "output_type": "execute_result",
          "data": {
            "text/plain": [
              "200"
            ]
          },
          "metadata": {
            "tags": []
          },
          "execution_count": 80
        }
      ]
    },
    {
      "cell_type": "code",
      "metadata": {
        "colab": {
          "base_uri": "https://localhost:8080/"
        },
        "id": "iRfLU3rU5-7J",
        "outputId": "3e8cc130-2117-4238-db15-1327f4a7e963"
      },
      "source": [
        "response.ok"
      ],
      "execution_count": 81,
      "outputs": [
        {
          "output_type": "execute_result",
          "data": {
            "text/plain": [
              "True"
            ]
          },
          "metadata": {
            "tags": []
          },
          "execution_count": 81
        }
      ]
    },
    {
      "cell_type": "code",
      "metadata": {
        "colab": {
          "base_uri": "https://localhost:8080/",
          "height": 52
        },
        "id": "B_phHFbR6bDz",
        "outputId": "56b53368-1d18-4b3f-9a4d-928363dc4268"
      },
      "source": [
        "response.text"
      ],
      "execution_count": 82,
      "outputs": [
        {
          "output_type": "execute_result",
          "data": {
            "application/vnd.google.colaboratory.intrinsic+json": {
              "type": "string"
            },
            "text/plain": [
              "'{\"temperature\":\"+33 째C\",\"wind\":\"26 km/h\",\"description\":\"Partly cloudy\",\"forecast\":[{\"day\":\"1\",\"temperature\":\"+33 째C\",\"wind\":\"30 km/h\"},{\"day\":\"2\",\"temperature\":\"34 째C\",\"wind\":\"27 km/h\"},{\"day\":\"3\",\"temperature\":\"35 째C\",\"wind\":\"31 km/h\"}]}'"
            ]
          },
          "metadata": {
            "tags": []
          },
          "execution_count": 82
        }
      ]
    },
    {
      "cell_type": "code",
      "metadata": {
        "id": "VFum_r1_6dyW"
      },
      "source": [
        "decoded = json.loads(response.text)"
      ],
      "execution_count": 83,
      "outputs": []
    },
    {
      "cell_type": "code",
      "metadata": {
        "colab": {
          "base_uri": "https://localhost:8080/"
        },
        "id": "eSMCzTTv6l2J",
        "outputId": "a8b3616c-db87-4dce-a474-b8ec937a296d"
      },
      "source": [
        "decoded"
      ],
      "execution_count": 84,
      "outputs": [
        {
          "output_type": "execute_result",
          "data": {
            "text/plain": [
              "{'description': 'Partly cloudy',\n",
              " 'forecast': [{'day': '1', 'temperature': '+33 째C', 'wind': '30 km/h'},\n",
              "  {'day': '2', 'temperature': '34 째C', 'wind': '27 km/h'},\n",
              "  {'day': '3', 'temperature': '35 째C', 'wind': '31 km/h'}],\n",
              " 'temperature': '+33 째C',\n",
              " 'wind': '26 km/h'}"
            ]
          },
          "metadata": {
            "tags": []
          },
          "execution_count": 84
        }
      ]
    },
    {
      "cell_type": "code",
      "metadata": {
        "colab": {
          "base_uri": "https://localhost:8080/"
        },
        "id": "_k976jGc61MS",
        "outputId": "ee2e2cb2-4830-45c9-df19-05c6622fb788"
      },
      "source": [
        "decoded.keys()"
      ],
      "execution_count": 85,
      "outputs": [
        {
          "output_type": "execute_result",
          "data": {
            "text/plain": [
              "dict_keys(['temperature', 'wind', 'description', 'forecast'])"
            ]
          },
          "metadata": {
            "tags": []
          },
          "execution_count": 85
        }
      ]
    },
    {
      "cell_type": "code",
      "metadata": {
        "colab": {
          "base_uri": "https://localhost:8080/",
          "height": 35
        },
        "id": "qDfy9OwR67kA",
        "outputId": "a53d8773-e82a-4195-eea3-274374b8d995"
      },
      "source": [
        "decoded['temperature']"
      ],
      "execution_count": 86,
      "outputs": [
        {
          "output_type": "execute_result",
          "data": {
            "application/vnd.google.colaboratory.intrinsic+json": {
              "type": "string"
            },
            "text/plain": [
              "'+33 째C'"
            ]
          },
          "metadata": {
            "tags": []
          },
          "execution_count": 86
        }
      ]
    },
    {
      "cell_type": "code",
      "metadata": {
        "colab": {
          "base_uri": "https://localhost:8080/"
        },
        "id": "PH898MyP7BaB",
        "outputId": "a2e6a62e-3455-452c-c5cb-a1d584ea90f4"
      },
      "source": [
        "decoded['forecast']"
      ],
      "execution_count": 87,
      "outputs": [
        {
          "output_type": "execute_result",
          "data": {
            "text/plain": [
              "[{'day': '1', 'temperature': '+33 째C', 'wind': '30 km/h'},\n",
              " {'day': '2', 'temperature': '34 째C', 'wind': '27 km/h'},\n",
              " {'day': '3', 'temperature': '35 째C', 'wind': '31 km/h'}]"
            ]
          },
          "metadata": {
            "tags": []
          },
          "execution_count": 87
        }
      ]
    },
    {
      "cell_type": "code",
      "metadata": {
        "colab": {
          "base_uri": "https://localhost:8080/"
        },
        "id": "6axPih2R7jme",
        "outputId": "5cf32781-10a0-4839-94db-88d94de797de"
      },
      "source": [
        "int(\"+32\")"
      ],
      "execution_count": 88,
      "outputs": [
        {
          "output_type": "execute_result",
          "data": {
            "text/plain": [
              "32"
            ]
          },
          "metadata": {
            "tags": []
          },
          "execution_count": 88
        }
      ]
    },
    {
      "cell_type": "code",
      "metadata": {
        "id": "60SqEr1P7FD8"
      },
      "source": [
        "def hotOrNot(decodedResponse):\n",
        "    \"\"\"\n",
        "    This function tells us whether it is currently very hot outside.\n",
        "    \"\"\"\n",
        "    currentTemp = decodedResponse['temperature']\n",
        "    tempN = int(currentTemp[:3])\n",
        "    if tempN > 30: \n",
        "        return \"It's wicked hot out!\"\n",
        "    else: \n",
        "        return \"It's not so hot. Calm down already.\"\n"
      ],
      "execution_count": 89,
      "outputs": []
    },
    {
      "cell_type": "code",
      "metadata": {
        "colab": {
          "base_uri": "https://localhost:8080/",
          "height": 35
        },
        "id": "lwa6a_1D7x76",
        "outputId": "13e0a9d5-7790-49eb-f3ba-10029b767add"
      },
      "source": [
        "hotOrNot(decoded)"
      ],
      "execution_count": 90,
      "outputs": [
        {
          "output_type": "execute_result",
          "data": {
            "application/vnd.google.colaboratory.intrinsic+json": {
              "type": "string"
            },
            "text/plain": [
              "\"It's wicked hot out!\""
            ]
          },
          "metadata": {
            "tags": []
          },
          "execution_count": 90
        }
      ]
    },
    {
      "cell_type": "code",
      "metadata": {
        "id": "RCXn1E8S70Pb"
      },
      "source": [
        "url = \"https://api.covid19api.com/dayone/country/canada/status/confirmed\""
      ],
      "execution_count": 91,
      "outputs": []
    },
    {
      "cell_type": "code",
      "metadata": {
        "id": "cjuS5cr89Fkh"
      },
      "source": [
        "response = requests.get(url)"
      ],
      "execution_count": 92,
      "outputs": []
    },
    {
      "cell_type": "code",
      "metadata": {
        "id": "gG3EryOt9IiP"
      },
      "source": [
        "decoded = json.loads(response.text)"
      ],
      "execution_count": 93,
      "outputs": []
    },
    {
      "cell_type": "code",
      "metadata": {
        "colab": {
          "base_uri": "https://localhost:8080/"
        },
        "id": "rntp07Bt9OIs",
        "outputId": "067d20e7-03b2-48da-f3a0-36d9d70d39d2"
      },
      "source": [
        "type(decoded)"
      ],
      "execution_count": 94,
      "outputs": [
        {
          "output_type": "execute_result",
          "data": {
            "text/plain": [
              "list"
            ]
          },
          "metadata": {
            "tags": []
          },
          "execution_count": 94
        }
      ]
    },
    {
      "cell_type": "code",
      "metadata": {
        "id": "AAt1xw819Rpq"
      },
      "source": [
        "df = pd.DataFrame(decoded)"
      ],
      "execution_count": 95,
      "outputs": []
    },
    {
      "cell_type": "code",
      "metadata": {
        "colab": {
          "base_uri": "https://localhost:8080/",
          "height": 419
        },
        "id": "QgDi52f09Y2n",
        "outputId": "18a885c8-1b19-40b8-f5f8-3c3d3519cc4b"
      },
      "source": [
        "df"
      ],
      "execution_count": 96,
      "outputs": [
        {
          "output_type": "execute_result",
          "data": {
            "text/html": [
              "<div>\n",
              "<style scoped>\n",
              "    .dataframe tbody tr th:only-of-type {\n",
              "        vertical-align: middle;\n",
              "    }\n",
              "\n",
              "    .dataframe tbody tr th {\n",
              "        vertical-align: top;\n",
              "    }\n",
              "\n",
              "    .dataframe thead th {\n",
              "        text-align: right;\n",
              "    }\n",
              "</style>\n",
              "<table border=\"1\" class=\"dataframe\">\n",
              "  <thead>\n",
              "    <tr style=\"text-align: right;\">\n",
              "      <th></th>\n",
              "      <th>Country</th>\n",
              "      <th>CountryCode</th>\n",
              "      <th>Province</th>\n",
              "      <th>City</th>\n",
              "      <th>CityCode</th>\n",
              "      <th>Lat</th>\n",
              "      <th>Lon</th>\n",
              "      <th>Cases</th>\n",
              "      <th>Status</th>\n",
              "      <th>Date</th>\n",
              "    </tr>\n",
              "  </thead>\n",
              "  <tbody>\n",
              "    <tr>\n",
              "      <th>0</th>\n",
              "      <td>Canada</td>\n",
              "      <td>CA</td>\n",
              "      <td></td>\n",
              "      <td></td>\n",
              "      <td></td>\n",
              "      <td>56.13</td>\n",
              "      <td>-106.35</td>\n",
              "      <td>1</td>\n",
              "      <td>confirmed</td>\n",
              "      <td>2020-01-26T00:00:00Z</td>\n",
              "    </tr>\n",
              "    <tr>\n",
              "      <th>1</th>\n",
              "      <td>Canada</td>\n",
              "      <td>CA</td>\n",
              "      <td></td>\n",
              "      <td></td>\n",
              "      <td></td>\n",
              "      <td>56.13</td>\n",
              "      <td>-106.35</td>\n",
              "      <td>1</td>\n",
              "      <td>confirmed</td>\n",
              "      <td>2020-01-27T00:00:00Z</td>\n",
              "    </tr>\n",
              "    <tr>\n",
              "      <th>2</th>\n",
              "      <td>Canada</td>\n",
              "      <td>CA</td>\n",
              "      <td></td>\n",
              "      <td></td>\n",
              "      <td></td>\n",
              "      <td>56.13</td>\n",
              "      <td>-106.35</td>\n",
              "      <td>2</td>\n",
              "      <td>confirmed</td>\n",
              "      <td>2020-01-28T00:00:00Z</td>\n",
              "    </tr>\n",
              "    <tr>\n",
              "      <th>3</th>\n",
              "      <td>Canada</td>\n",
              "      <td>CA</td>\n",
              "      <td></td>\n",
              "      <td></td>\n",
              "      <td></td>\n",
              "      <td>56.13</td>\n",
              "      <td>-106.35</td>\n",
              "      <td>2</td>\n",
              "      <td>confirmed</td>\n",
              "      <td>2020-01-29T00:00:00Z</td>\n",
              "    </tr>\n",
              "    <tr>\n",
              "      <th>4</th>\n",
              "      <td>Canada</td>\n",
              "      <td>CA</td>\n",
              "      <td></td>\n",
              "      <td></td>\n",
              "      <td></td>\n",
              "      <td>56.13</td>\n",
              "      <td>-106.35</td>\n",
              "      <td>2</td>\n",
              "      <td>confirmed</td>\n",
              "      <td>2020-01-30T00:00:00Z</td>\n",
              "    </tr>\n",
              "    <tr>\n",
              "      <th>...</th>\n",
              "      <td>...</td>\n",
              "      <td>...</td>\n",
              "      <td>...</td>\n",
              "      <td>...</td>\n",
              "      <td>...</td>\n",
              "      <td>...</td>\n",
              "      <td>...</td>\n",
              "      <td>...</td>\n",
              "      <td>...</td>\n",
              "      <td>...</td>\n",
              "    </tr>\n",
              "    <tr>\n",
              "      <th>550</th>\n",
              "      <td>Canada</td>\n",
              "      <td>CA</td>\n",
              "      <td></td>\n",
              "      <td></td>\n",
              "      <td></td>\n",
              "      <td>56.13</td>\n",
              "      <td>-106.35</td>\n",
              "      <td>1202977</td>\n",
              "      <td>confirmed</td>\n",
              "      <td>2021-07-29T00:00:00Z</td>\n",
              "    </tr>\n",
              "    <tr>\n",
              "      <th>551</th>\n",
              "      <td>Canada</td>\n",
              "      <td>CA</td>\n",
              "      <td></td>\n",
              "      <td></td>\n",
              "      <td></td>\n",
              "      <td>56.13</td>\n",
              "      <td>-106.35</td>\n",
              "      <td>1203700</td>\n",
              "      <td>confirmed</td>\n",
              "      <td>2021-07-30T00:00:00Z</td>\n",
              "    </tr>\n",
              "    <tr>\n",
              "      <th>552</th>\n",
              "      <td>Canada</td>\n",
              "      <td>CA</td>\n",
              "      <td></td>\n",
              "      <td></td>\n",
              "      <td></td>\n",
              "      <td>56.13</td>\n",
              "      <td>-106.35</td>\n",
              "      <td>1204136</td>\n",
              "      <td>confirmed</td>\n",
              "      <td>2021-07-31T00:00:00Z</td>\n",
              "    </tr>\n",
              "    <tr>\n",
              "      <th>553</th>\n",
              "      <td>Canada</td>\n",
              "      <td>CA</td>\n",
              "      <td></td>\n",
              "      <td></td>\n",
              "      <td></td>\n",
              "      <td>56.13</td>\n",
              "      <td>-106.35</td>\n",
              "      <td>1204496</td>\n",
              "      <td>confirmed</td>\n",
              "      <td>2021-08-01T00:00:00Z</td>\n",
              "    </tr>\n",
              "    <tr>\n",
              "      <th>554</th>\n",
              "      <td>Canada</td>\n",
              "      <td>CA</td>\n",
              "      <td></td>\n",
              "      <td></td>\n",
              "      <td></td>\n",
              "      <td>56.13</td>\n",
              "      <td>-106.35</td>\n",
              "      <td>1204711</td>\n",
              "      <td>confirmed</td>\n",
              "      <td>2021-08-02T00:00:00Z</td>\n",
              "    </tr>\n",
              "  </tbody>\n",
              "</table>\n",
              "<p>555 rows × 10 columns</p>\n",
              "</div>"
            ],
            "text/plain": [
              "    Country CountryCode Province  ...    Cases     Status                  Date\n",
              "0    Canada          CA           ...        1  confirmed  2020-01-26T00:00:00Z\n",
              "1    Canada          CA           ...        1  confirmed  2020-01-27T00:00:00Z\n",
              "2    Canada          CA           ...        2  confirmed  2020-01-28T00:00:00Z\n",
              "3    Canada          CA           ...        2  confirmed  2020-01-29T00:00:00Z\n",
              "4    Canada          CA           ...        2  confirmed  2020-01-30T00:00:00Z\n",
              "..      ...         ...      ...  ...      ...        ...                   ...\n",
              "550  Canada          CA           ...  1202977  confirmed  2021-07-29T00:00:00Z\n",
              "551  Canada          CA           ...  1203700  confirmed  2021-07-30T00:00:00Z\n",
              "552  Canada          CA           ...  1204136  confirmed  2021-07-31T00:00:00Z\n",
              "553  Canada          CA           ...  1204496  confirmed  2021-08-01T00:00:00Z\n",
              "554  Canada          CA           ...  1204711  confirmed  2021-08-02T00:00:00Z\n",
              "\n",
              "[555 rows x 10 columns]"
            ]
          },
          "metadata": {
            "tags": []
          },
          "execution_count": 96
        }
      ]
    },
    {
      "cell_type": "code",
      "metadata": {
        "id": "H7SqCe2e9jMq"
      },
      "source": [
        "dfDateCase = df[['Date', 'Cases']]"
      ],
      "execution_count": 97,
      "outputs": []
    },
    {
      "cell_type": "code",
      "metadata": {
        "id": "Ojxo3CRt-6yt"
      },
      "source": [
        "url = \"http://openlibrary.org/api/books?bibkeys=ISBN:0201558025,LCCN:93005405\""
      ],
      "execution_count": 98,
      "outputs": []
    },
    {
      "cell_type": "code",
      "metadata": {
        "id": "eGSZQg3r_eq1"
      },
      "source": [
        "params = {\"bibkeys\": \"ISBN:0201558025,LCCN:93005405\"}"
      ],
      "execution_count": 99,
      "outputs": []
    },
    {
      "cell_type": "code",
      "metadata": {
        "id": "-3VYSqCjDair"
      },
      "source": [
        "response = requests.get(\"http://openlibrary.org/api/books\", params=params)"
      ],
      "execution_count": 100,
      "outputs": []
    },
    {
      "cell_type": "code",
      "metadata": {
        "colab": {
          "base_uri": "https://localhost:8080/"
        },
        "id": "wDrEJWLkDmID",
        "outputId": "c93138d6-34bc-4586-cf7f-e48829bddf9d"
      },
      "source": [
        "response.ok"
      ],
      "execution_count": 101,
      "outputs": [
        {
          "output_type": "execute_result",
          "data": {
            "text/plain": [
              "True"
            ]
          },
          "metadata": {
            "tags": []
          },
          "execution_count": 101
        }
      ]
    },
    {
      "cell_type": "code",
      "metadata": {
        "colab": {
          "base_uri": "https://localhost:8080/"
        },
        "id": "UlzlHD_5DnJ_",
        "outputId": "3e4b46cb-e9e8-4bbe-c57b-a63b3abf0fc4"
      },
      "source": [
        "response.text.index('{')"
      ],
      "execution_count": 102,
      "outputs": [
        {
          "output_type": "execute_result",
          "data": {
            "text/plain": [
              "18"
            ]
          },
          "metadata": {
            "tags": []
          },
          "execution_count": 102
        }
      ]
    },
    {
      "cell_type": "code",
      "metadata": {
        "id": "Txr3JPIoDn68"
      },
      "source": [
        "responseClean = response.text[18:-1]"
      ],
      "execution_count": 103,
      "outputs": []
    },
    {
      "cell_type": "code",
      "metadata": {
        "id": "FosxBMpxD8Li"
      },
      "source": [
        "decoded = json.loads(responseClean)"
      ],
      "execution_count": 104,
      "outputs": []
    },
    {
      "cell_type": "code",
      "metadata": {
        "colab": {
          "base_uri": "https://localhost:8080/"
        },
        "id": "8aRj_cb-ECL3",
        "outputId": "3192bb4b-694d-4fa6-a743-3cb8b167a457"
      },
      "source": [
        "type(decoded)"
      ],
      "execution_count": 105,
      "outputs": [
        {
          "output_type": "execute_result",
          "data": {
            "text/plain": [
              "dict"
            ]
          },
          "metadata": {
            "tags": []
          },
          "execution_count": 105
        }
      ]
    },
    {
      "cell_type": "code",
      "metadata": {
        "colab": {
          "base_uri": "https://localhost:8080/"
        },
        "id": "nBx3KRLiEEGr",
        "outputId": "cec2a874-e29c-4b0e-823e-3ca0ccf69338"
      },
      "source": [
        "decoded['ISBN:0201558025']"
      ],
      "execution_count": 106,
      "outputs": [
        {
          "output_type": "execute_result",
          "data": {
            "text/plain": [
              "{'bib_key': 'ISBN:0201558025',\n",
              " 'info_url': 'http://openlibrary.org/books/OL1429049M/Concrete_mathematics',\n",
              " 'preview': 'restricted',\n",
              " 'preview_url': 'https://archive.org/details/concretemathemat00grah_444',\n",
              " 'thumbnail_url': 'https://covers.openlibrary.org/b/id/135182-S.jpg'}"
            ]
          },
          "metadata": {
            "tags": []
          },
          "execution_count": 106
        }
      ]
    },
    {
      "cell_type": "code",
      "metadata": {
        "id": "eheXF7nqEFag"
      },
      "source": [
        "url = \"https://www.googleapis.com/books/v1/volumes\"\n",
        "params = {\"q\": \"communist manifesto\", \"maxResults\": 40}\n",
        "response = requests.get(url, params=params)"
      ],
      "execution_count": 107,
      "outputs": []
    },
    {
      "cell_type": "code",
      "metadata": {
        "colab": {
          "base_uri": "https://localhost:8080/"
        },
        "id": "5ikp4giQEfs2",
        "outputId": "7c3dfe11-1095-4f70-d899-7fb3e54c1b59"
      },
      "source": [
        "response.ok"
      ],
      "execution_count": 108,
      "outputs": [
        {
          "output_type": "execute_result",
          "data": {
            "text/plain": [
              "True"
            ]
          },
          "metadata": {
            "tags": []
          },
          "execution_count": 108
        }
      ]
    },
    {
      "cell_type": "code",
      "metadata": {
        "id": "azoD9WeaErhA"
      },
      "source": [
        "decoded = json.loads(response.text)"
      ],
      "execution_count": 109,
      "outputs": []
    },
    {
      "cell_type": "code",
      "metadata": {
        "colab": {
          "base_uri": "https://localhost:8080/"
        },
        "id": "kFquR8YEEsqI",
        "outputId": "5b65883e-9d1e-4177-a011-30e196e2066e"
      },
      "source": [
        "type(decoded)"
      ],
      "execution_count": 110,
      "outputs": [
        {
          "output_type": "execute_result",
          "data": {
            "text/plain": [
              "dict"
            ]
          },
          "metadata": {
            "tags": []
          },
          "execution_count": 110
        }
      ]
    },
    {
      "cell_type": "code",
      "metadata": {
        "colab": {
          "base_uri": "https://localhost:8080/"
        },
        "id": "pmYhJ2JhEyv6",
        "outputId": "0b29c22e-378c-4332-a84d-78009252fe48"
      },
      "source": [
        "decoded.keys()"
      ],
      "execution_count": 111,
      "outputs": [
        {
          "output_type": "execute_result",
          "data": {
            "text/plain": [
              "dict_keys(['kind', 'totalItems', 'items'])"
            ]
          },
          "metadata": {
            "tags": []
          },
          "execution_count": 111
        }
      ]
    },
    {
      "cell_type": "code",
      "metadata": {
        "colab": {
          "base_uri": "https://localhost:8080/"
        },
        "id": "TuSJVqIUE0RM",
        "outputId": "475522f5-8012-44f4-fd46-6e65eab2cc2e"
      },
      "source": [
        "decoded['totalItems']"
      ],
      "execution_count": 112,
      "outputs": [
        {
          "output_type": "execute_result",
          "data": {
            "text/plain": [
              "1608"
            ]
          },
          "metadata": {
            "tags": []
          },
          "execution_count": 112
        }
      ]
    },
    {
      "cell_type": "code",
      "metadata": {
        "id": "C0prpLZUE2dM"
      },
      "source": [
        "items = decoded['items']"
      ],
      "execution_count": 113,
      "outputs": []
    },
    {
      "cell_type": "code",
      "metadata": {
        "colab": {
          "base_uri": "https://localhost:8080/"
        },
        "id": "3-f9Ws5dE6om",
        "outputId": "0989e9e2-cfd9-4575-92be-4237cbd15e17"
      },
      "source": [
        "type(items)"
      ],
      "execution_count": 114,
      "outputs": [
        {
          "output_type": "execute_result",
          "data": {
            "text/plain": [
              "list"
            ]
          },
          "metadata": {
            "tags": []
          },
          "execution_count": 114
        }
      ]
    },
    {
      "cell_type": "code",
      "metadata": {
        "colab": {
          "base_uri": "https://localhost:8080/"
        },
        "id": "odA6kf0BE9e1",
        "outputId": "3a3f094a-1f30-43b7-f421-d14592ec5e5d"
      },
      "source": [
        "len(items)"
      ],
      "execution_count": 115,
      "outputs": [
        {
          "output_type": "execute_result",
          "data": {
            "text/plain": [
              "40"
            ]
          },
          "metadata": {
            "tags": []
          },
          "execution_count": 115
        }
      ]
    },
    {
      "cell_type": "code",
      "metadata": {
        "colab": {
          "base_uri": "https://localhost:8080/"
        },
        "id": "0eE7efGzE_Na",
        "outputId": "4371f6ce-4504-461c-8dd1-b87c9a216419"
      },
      "source": [
        "items[0].keys()"
      ],
      "execution_count": 116,
      "outputs": [
        {
          "output_type": "execute_result",
          "data": {
            "text/plain": [
              "dict_keys(['kind', 'id', 'etag', 'selfLink', 'volumeInfo', 'saleInfo', 'accessInfo', 'searchInfo'])"
            ]
          },
          "metadata": {
            "tags": []
          },
          "execution_count": 116
        }
      ]
    },
    {
      "cell_type": "code",
      "metadata": {
        "colab": {
          "base_uri": "https://localhost:8080/"
        },
        "id": "wvBC_INtFr8T",
        "outputId": "01eb59da-3767-4c1d-8f51-f8d3f06ceabd"
      },
      "source": [
        "items[0]['volumeInfo']"
      ],
      "execution_count": 117,
      "outputs": [
        {
          "output_type": "execute_result",
          "data": {
            "text/plain": [
              "{'allowAnonLogging': True,\n",
              " 'authors': ['Karl Marx'],\n",
              " 'averageRating': 3,\n",
              " 'canonicalVolumeLink': 'https://play.google.com/store/books/details?id=OXJSaqiBaXMC',\n",
              " 'categories': ['Philosophy'],\n",
              " 'contentVersion': '1.4.3.0.preview.2',\n",
              " 'description': 'Originally published on the eve of the 1848 European revolutions, The Communist Manifesto is a condensed and incisive account of the worldview Marx and Engels developed during their hectic intellectual and political collaboration. Formulating the principles of dialectical materialism, they believed that labor creates wealth, hence capitalism is exploitive and antithetical to freedom.',\n",
              " 'imageLinks': {'smallThumbnail': 'http://books.google.com/books/content?id=OXJSaqiBaXMC&printsec=frontcover&img=1&zoom=5&edge=curl&source=gbs_api',\n",
              "  'thumbnail': 'http://books.google.com/books/content?id=OXJSaqiBaXMC&printsec=frontcover&img=1&zoom=1&edge=curl&source=gbs_api'},\n",
              " 'industryIdentifiers': [{'identifier': '9781476734293', 'type': 'ISBN_13'},\n",
              "  {'identifier': '1476734291', 'type': 'ISBN_10'}],\n",
              " 'infoLink': 'https://play.google.com/store/books/details?id=OXJSaqiBaXMC&source=gbs_api',\n",
              " 'language': 'en',\n",
              " 'maturityRating': 'NOT_MATURE',\n",
              " 'pageCount': 160,\n",
              " 'panelizationSummary': {'containsEpubBubbles': False,\n",
              "  'containsImageBubbles': False},\n",
              " 'previewLink': 'http://books.google.com/books?id=OXJSaqiBaXMC&printsec=frontcover&dq=communist+manifesto&hl=&cd=1&source=gbs_api',\n",
              " 'printType': 'BOOK',\n",
              " 'publishedDate': '2013-01-22',\n",
              " 'publisher': 'Simon and Schuster',\n",
              " 'ratingsCount': 1032,\n",
              " 'readingModes': {'image': False, 'text': True},\n",
              " 'title': 'The Communist Manifesto'}"
            ]
          },
          "metadata": {
            "tags": []
          },
          "execution_count": 117
        }
      ]
    },
    {
      "cell_type": "code",
      "metadata": {
        "id": "yqMoAuMIFyFf"
      },
      "source": [
        "pubDates = []\n",
        "for item in items: \n",
        "    year = item['volumeInfo']['publishedDate'][:4]\n",
        "    try: \n",
        "        cleanYear = int(year)\n",
        "        pubDates.append(cleanYear)\n",
        "    except: \n",
        "        continue"
      ],
      "execution_count": 118,
      "outputs": []
    },
    {
      "cell_type": "code",
      "metadata": {
        "colab": {
          "base_uri": "https://localhost:8080/",
          "height": 282
        },
        "id": "VyYkd3PwF7Yz",
        "outputId": "a54ed6da-11e0-436f-aa0b-487544cc44ff"
      },
      "source": [
        "pd.Series(pubDates).hist()"
      ],
      "execution_count": 119,
      "outputs": [
        {
          "output_type": "execute_result",
          "data": {
            "text/plain": [
              "<matplotlib.axes._subplots.AxesSubplot at 0x7fac6cd27d10>"
            ]
          },
          "metadata": {
            "tags": []
          },
          "execution_count": 119
        },
        {
          "output_type": "display_data",
          "data": {
            "image/png": "[encoded data removed]",
            "text/plain": [
              "<Figure size 432x288 with 1 Axes>"
            ]
          },
          "metadata": {
            "tags": [],
            "needs_background": "light"
          }
        }
      ]
    },
    {
      "cell_type": "markdown",
      "metadata": {
        "id": "WPJ0klpsG0pJ"
      },
      "source": [
        "# Machine Learning"
      ]
    },
    {
      "cell_type": "code",
      "metadata": {
        "id": "LbN4mFUHG1ts"
      },
      "source": [
        "# Let's get scikit-learn\n",
        "import sklearn\n",
        "from sklearn import datasets"
      ],
      "execution_count": 120,
      "outputs": []
    },
    {
      "cell_type": "code",
      "metadata": {
        "id": "_lEeJcNOHECT"
      },
      "source": [
        "from sklearn.linear_model import LinearRegression"
      ],
      "execution_count": 121,
      "outputs": []
    },
    {
      "cell_type": "code",
      "metadata": {
        "id": "64nUVTKIHYLo"
      },
      "source": [
        "linearRegression = LinearRegression()"
      ],
      "execution_count": 122,
      "outputs": []
    },
    {
      "cell_type": "code",
      "metadata": {
        "colab": {
          "base_uri": "https://localhost:8080/"
        },
        "id": "AgnlHm97HmXR",
        "outputId": "d5e88112-1376-4344-92f1-b72d8f5d4972"
      },
      "source": [
        "type(linearRegression)"
      ],
      "execution_count": 123,
      "outputs": [
        {
          "output_type": "execute_result",
          "data": {
            "text/plain": [
              "sklearn.linear_model._base.LinearRegression"
            ]
          },
          "metadata": {
            "tags": []
          },
          "execution_count": 123
        }
      ]
    },
    {
      "cell_type": "code",
      "metadata": {
        "id": "wgdwqMj4Ho0d",
        "colab": {
          "base_uri": "https://localhost:8080/",
          "height": 419
        },
        "outputId": "8fad400d-86f3-4dab-f24a-760526788f88"
      },
      "source": [
        "dfDateCase"
      ],
      "execution_count": 124,
      "outputs": [
        {
          "output_type": "execute_result",
          "data": {
            "text/html": [
              "<div>\n",
              "<style scoped>\n",
              "    .dataframe tbody tr th:only-of-type {\n",
              "        vertical-align: middle;\n",
              "    }\n",
              "\n",
              "    .dataframe tbody tr th {\n",
              "        vertical-align: top;\n",
              "    }\n",
              "\n",
              "    .dataframe thead th {\n",
              "        text-align: right;\n",
              "    }\n",
              "</style>\n",
              "<table border=\"1\" class=\"dataframe\">\n",
              "  <thead>\n",
              "    <tr style=\"text-align: right;\">\n",
              "      <th></th>\n",
              "      <th>Date</th>\n",
              "      <th>Cases</th>\n",
              "    </tr>\n",
              "  </thead>\n",
              "  <tbody>\n",
              "    <tr>\n",
              "      <th>0</th>\n",
              "      <td>2020-01-26T00:00:00Z</td>\n",
              "      <td>1</td>\n",
              "    </tr>\n",
              "    <tr>\n",
              "      <th>1</th>\n",
              "      <td>2020-01-27T00:00:00Z</td>\n",
              "      <td>1</td>\n",
              "    </tr>\n",
              "    <tr>\n",
              "      <th>2</th>\n",
              "      <td>2020-01-28T00:00:00Z</td>\n",
              "      <td>2</td>\n",
              "    </tr>\n",
              "    <tr>\n",
              "      <th>3</th>\n",
              "      <td>2020-01-29T00:00:00Z</td>\n",
              "      <td>2</td>\n",
              "    </tr>\n",
              "    <tr>\n",
              "      <th>4</th>\n",
              "      <td>2020-01-30T00:00:00Z</td>\n",
              "      <td>2</td>\n",
              "    </tr>\n",
              "    <tr>\n",
              "      <th>...</th>\n",
              "      <td>...</td>\n",
              "      <td>...</td>\n",
              "    </tr>\n",
              "    <tr>\n",
              "      <th>550</th>\n",
              "      <td>2021-07-29T00:00:00Z</td>\n",
              "      <td>1202977</td>\n",
              "    </tr>\n",
              "    <tr>\n",
              "      <th>551</th>\n",
              "      <td>2021-07-30T00:00:00Z</td>\n",
              "      <td>1203700</td>\n",
              "    </tr>\n",
              "    <tr>\n",
              "      <th>552</th>\n",
              "      <td>2021-07-31T00:00:00Z</td>\n",
              "      <td>1204136</td>\n",
              "    </tr>\n",
              "    <tr>\n",
              "      <th>553</th>\n",
              "      <td>2021-08-01T00:00:00Z</td>\n",
              "      <td>1204496</td>\n",
              "    </tr>\n",
              "    <tr>\n",
              "      <th>554</th>\n",
              "      <td>2021-08-02T00:00:00Z</td>\n",
              "      <td>1204711</td>\n",
              "    </tr>\n",
              "  </tbody>\n",
              "</table>\n",
              "<p>555 rows × 2 columns</p>\n",
              "</div>"
            ],
            "text/plain": [
              "                     Date    Cases\n",
              "0    2020-01-26T00:00:00Z        1\n",
              "1    2020-01-27T00:00:00Z        1\n",
              "2    2020-01-28T00:00:00Z        2\n",
              "3    2020-01-29T00:00:00Z        2\n",
              "4    2020-01-30T00:00:00Z        2\n",
              "..                    ...      ...\n",
              "550  2021-07-29T00:00:00Z  1202977\n",
              "551  2021-07-30T00:00:00Z  1203700\n",
              "552  2021-07-31T00:00:00Z  1204136\n",
              "553  2021-08-01T00:00:00Z  1204496\n",
              "554  2021-08-02T00:00:00Z  1204711\n",
              "\n",
              "[555 rows x 2 columns]"
            ]
          },
          "metadata": {
            "tags": []
          },
          "execution_count": 124
        }
      ]
    },
    {
      "cell_type": "code",
      "metadata": {
        "id": "-L3IgGKKIKh6",
        "colab": {
          "base_uri": "https://localhost:8080/"
        },
        "outputId": "9a2fac70-12f8-4c3c-fc24-7118c3991f58"
      },
      "source": [
        "def cleanDate(dateStr): \n",
        "    return dateStr[:10].replace('-', '')\n",
        "\n",
        "dfDateCase['Date'] = dfDateCase['Date'].apply(cleanDate)"
      ],
      "execution_count": 125,
      "outputs": [
        {
          "output_type": "stream",
          "text": [
            "/usr/local/lib/python3.7/dist-packages/ipykernel_launcher.py:4: SettingWithCopyWarning: \n",
            "A value is trying to be set on a copy of a slice from a DataFrame.\n",
            "Try using .loc[row_indexer,col_indexer] = value instead\n",
            "\n",
            "See the caveats in the documentation: https://pandas.pydata.org/pandas-docs/stable/user_guide/indexing.html#returning-a-view-versus-a-copy\n",
            "  after removing the cwd from sys.path.\n"
          ],
          "name": "stderr"
        }
      ]
    },
    {
      "cell_type": "code",
      "metadata": {
        "id": "_VxRpG9EH2xz"
      },
      "source": [
        "dates = dfDateCase['Date'].to_numpy().reshape((-1, 1))\n",
        "cases = dfDateCase['Cases'].to_numpy().reshape((-1, 1))"
      ],
      "execution_count": 126,
      "outputs": []
    },
    {
      "cell_type": "code",
      "metadata": {
        "colab": {
          "base_uri": "https://localhost:8080/"
        },
        "id": "NCHWtd1Fa41K",
        "outputId": "50173306-e682-41ae-ea03-8be5652d530e"
      },
      "source": [
        "linearRegression.fit(dates, cases)"
      ],
      "execution_count": 127,
      "outputs": [
        {
          "output_type": "execute_result",
          "data": {
            "text/plain": [
              "LinearRegression(copy_X=True, fit_intercept=True, n_jobs=None, normalize=False)"
            ]
          },
          "metadata": {
            "tags": []
          },
          "execution_count": 127
        }
      ]
    },
    {
      "cell_type": "code",
      "metadata": {
        "colab": {
          "base_uri": "https://localhost:8080/"
        },
        "id": "0vUfrdW-Kt3q",
        "outputId": "d1782f8d-04b4-4322-a09c-83ddf18fa81f"
      },
      "source": [
        "linearRegression.coef_"
      ],
      "execution_count": 128,
      "outputs": [
        {
          "output_type": "execute_result",
          "data": {
            "text/plain": [
              "array([[84.75358305]])"
            ]
          },
          "metadata": {
            "tags": []
          },
          "execution_count": 128
        }
      ]
    },
    {
      "cell_type": "code",
      "metadata": {
        "colab": {
          "base_uri": "https://localhost:8080/"
        },
        "id": "eEziger0K1Tf",
        "outputId": "f68e9f8d-0eb8-4a3b-b5d7-50f25f0a4fc0"
      },
      "source": [
        "linearRegression.intercept_"
      ],
      "execution_count": 129,
      "outputs": [
        {
          "output_type": "execute_result",
          "data": {
            "text/plain": [
              "array([-1.71196342e+09])"
            ]
          },
          "metadata": {
            "tags": []
          },
          "execution_count": 129
        }
      ]
    },
    {
      "cell_type": "code",
      "metadata": {
        "id": "alTcVHLCLF4P",
        "colab": {
          "base_uri": "https://localhost:8080/",
          "height": 293
        },
        "outputId": "e19651b3-3b58-44a4-cc5a-a941734782c9"
      },
      "source": [
        "dfDateCase.plot()"
      ],
      "execution_count": 130,
      "outputs": [
        {
          "output_type": "execute_result",
          "data": {
            "text/plain": [
              "<matplotlib.axes._subplots.AxesSubplot at 0x7fac6ce5de90>"
            ]
          },
          "metadata": {
            "tags": []
          },
          "execution_count": 130
        },
        {
          "output_type": "display_data",
          "data": {
            "image/png": "[encoded data removed]",
            "text/plain": [
              "<Figure size 432x288 with 1 Axes>"
            ]
          },
          "metadata": {
            "tags": [],
            "needs_background": "light"
          }
        }
      ]
    },
    {
      "cell_type": "code",
      "metadata": {
        "colab": {
          "base_uri": "https://localhost:8080/"
        },
        "id": "K6G5tGhmbPF_",
        "outputId": "00fcd97d-0002-4066-c6ba-ff252f357a70"
      },
      "source": [
        "dfDateCase['Predicted'] = linearRegression.predict(dfDateCase['Date'].to_numpy().reshape((-1, 1)))"
      ],
      "execution_count": 134,
      "outputs": [
        {
          "output_type": "stream",
          "text": [
            "/usr/local/lib/python3.7/dist-packages/ipykernel_launcher.py:1: SettingWithCopyWarning: \n",
            "A value is trying to be set on a copy of a slice from a DataFrame.\n",
            "Try using .loc[row_indexer,col_indexer] = value instead\n",
            "\n",
            "See the caveats in the documentation: https://pandas.pydata.org/pandas-docs/stable/user_guide/indexing.html#returning-a-view-versus-a-copy\n",
            "  \"\"\"Entry point for launching an IPython kernel.\n"
          ],
          "name": "stderr"
        }
      ]
    },
    {
      "cell_type": "code",
      "metadata": {
        "colab": {
          "base_uri": "https://localhost:8080/",
          "height": 293
        },
        "id": "jC06ke2bbpr5",
        "outputId": "8de88199-81a4-45bc-ec27-eccd795d317b"
      },
      "source": [
        "dfDateCase.plot()"
      ],
      "execution_count": 136,
      "outputs": [
        {
          "output_type": "execute_result",
          "data": {
            "text/plain": [
              "<matplotlib.axes._subplots.AxesSubplot at 0x7fac6cbe5d10>"
            ]
          },
          "metadata": {
            "tags": []
          },
          "execution_count": 136
        },
        {
          "output_type": "display_data",
          "data": {
            "image/png": "[encoded data removed]",
            "text/plain": [
              "<Figure size 432x288 with 1 Axes>"
            ]
          },
          "metadata": {
            "tags": [],
            "needs_background": "light"
          }
        }
      ]
    }
  ]
}